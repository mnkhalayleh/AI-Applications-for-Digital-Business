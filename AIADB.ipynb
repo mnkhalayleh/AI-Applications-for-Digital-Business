{
 "cells": [
  {
   "cell_type": "markdown",
   "id": "50a87710",
   "metadata": {},
   "source": [
    "# L R D"
   ]
  },
  {
   "cell_type": "code",
   "execution_count": 45,
   "id": "4d44179b",
   "metadata": {},
   "outputs": [],
   "source": [
    "import pandas as pd\n",
    "import numpy as np\n",
    "import re\n",
    "import torch\n",
    "import torch.nn as nn\n",
    "import seaborn as sns\n",
    "import matplotlib.pyplot as plt\n",
    "import nltk\n",
    "\n",
    "from nltk.tokenize import word_tokenize\n",
    "from nltk.corpus import stopwords\n",
    "\n",
    "from sklearn.metrics import accuracy_score, classification_report, confusion_matrix\n",
    "from sklearn.metrics import roc_auc_score\n",
    "from sklearn.preprocessing import LabelEncoder\n",
    "from sklearn.feature_extraction.text import TfidfVectorizer\n",
    "from sklearn.preprocessing import LabelEncoder\n",
    "from sklearn.linear_model import LogisticRegression\n",
    "from sklearn.model_selection import GridSearchCV\n",
    "from sklearn.naive_bayes import MultinomialNB\n",
    "\n",
    "from transformers import DistilBertTokenizer, DistilBertForSequenceClassification\n",
    "from transformers import Trainer, TrainingArguments\n",
    "from transformers import BertTokenizer, BertForSequenceClassification\n",
    "\n",
    "from torchtext.data.utils import get_tokenizer\n",
    "from torchtext.vocab import build_vocab_from_iterator\n",
    "from torch.nn.utils.rnn import pad_sequence\n",
    "from torch.utils.data import DataLoader, Dataset"
   ]
  },
  {
   "cell_type": "code",
   "execution_count": 46,
   "id": "f721bf4b",
   "metadata": {},
   "outputs": [
    {
     "data": {
      "text/plain": [
       "(   2401  Borderlands  Positive  \\\n",
       " 0  2401  Borderlands  Positive   \n",
       " 1  2401  Borderlands  Positive   \n",
       " 2  2401  Borderlands  Positive   \n",
       " 3  2401  Borderlands  Positive   \n",
       " 4  2401  Borderlands  Positive   \n",
       " \n",
       "   im getting on borderlands and i will murder you all ,  \n",
       " 0  I am coming to the borders and I will kill you...     \n",
       " 1  im getting on borderlands and i will kill you ...     \n",
       " 2  im coming on borderlands and i will murder you...     \n",
       " 3  im getting on borderlands 2 and i will murder ...     \n",
       " 4  im getting into borderlands and i can murder y...     ,\n",
       " (74681, 4),\n",
       "    3364   Facebook Irrelevant  \\\n",
       " 0   352     Amazon    Neutral   \n",
       " 1  8312  Microsoft   Negative   \n",
       " 2  4371      CS-GO   Negative   \n",
       " 3  4433     Google    Neutral   \n",
       " 4  6273       FIFA   Negative   \n",
       " \n",
       "   I mentioned on Facebook that I was struggling for motivation to go for a run the other day, which has been translated by Tom’s great auntie as ‘Hayley can’t get out of bed’ and told to his grandma, who now thinks I’m a lazy, terrible person 🤣  \n",
       " 0  BBC News - Amazon boss Jeff Bezos rejects clai...                                                                                                                                                                                                  \n",
       " 1  @Microsoft Why do I pay for WORD when it funct...                                                                                                                                                                                                  \n",
       " 2  CSGO matchmaking is so full of closet hacking,...                                                                                                                                                                                                  \n",
       " 3  Now the President is slapping Americans in the...                                                                                                                                                                                                  \n",
       " 4  Hi @EAHelp I’ve had Madeleine McCann in my cel...                                                                                                                                                                                                  ,\n",
       " (999, 4))"
      ]
     },
     "execution_count": 46,
     "metadata": {},
     "output_type": "execute_result"
    }
   ],
   "source": [
    "training_path = 'twitter_training.csv'\n",
    "validation_path = 'twitter_validation.csv'\n",
    "\n",
    "training_df = pd.read_csv(training_path)\n",
    "validation_df = pd.read_csv(validation_path)\n",
    "\n",
    "(training_df.head(), training_df.shape, validation_df.head(), validation_df.shape)"
   ]
  },
  {
   "cell_type": "markdown",
   "id": "b6ef9ff5",
   "metadata": {},
   "source": [
    "Loading \n",
    "Reading\n",
    "Displaying"
   ]
  },
  {
   "cell_type": "markdown",
   "id": "0304f180",
   "metadata": {},
   "source": [
    "# Data Preprocessing"
   ]
  },
  {
   "cell_type": "code",
   "execution_count": 47,
   "id": "30ca8cce",
   "metadata": {},
   "outputs": [],
   "source": [
    "headers = ['id', 'topic', 'sentiment', 'text']\n",
    "training_df.columns = headers\n",
    "validation_df.columns = headers"
   ]
  },
  {
   "cell_type": "markdown",
   "id": "b075fdc7",
   "metadata": {},
   "source": [
    "Assign Proper Headers"
   ]
  },
  {
   "cell_type": "code",
   "execution_count": 48,
   "id": "94898fc2",
   "metadata": {},
   "outputs": [
    {
     "name": "stderr",
     "output_type": "stream",
     "text": [
      "[nltk_data] Downloading package punkt to\n",
      "[nltk_data]     C:\\Users\\alkha\\AppData\\Roaming\\nltk_data...\n",
      "[nltk_data]   Package punkt is already up-to-date!\n",
      "[nltk_data] Downloading package stopwords to\n",
      "[nltk_data]     C:\\Users\\alkha\\AppData\\Roaming\\nltk_data...\n",
      "[nltk_data]   Package stopwords is already up-to-date!\n"
     ]
    }
   ],
   "source": [
    "nltk.download('punkt')\n",
    "nltk.download('stopwords')\n",
    "\n",
    "def preprocess_text(df):\n",
    "    \n",
    "    df['text'] = df['text'].astype(str)\n",
    "    df['text'] = df['text'].str.lower()\n",
    "    df['text'] = df['text'].apply(lambda x: re.sub('http\\S+|www.\\S+', '', x))\n",
    "    df['text'] = df['text'].apply(lambda x: re.sub('[^a-z\\s]', '', x))\n",
    "    stop_words = set(stopwords.words('english'))\n",
    "    df['text'] = df['text'].apply(lambda x: ' '.join([word for word in word_tokenize(x) if word not in stop_words]))\n",
    "    \n",
    "    return df\n",
    "\n",
    "training_df_cleaned = preprocess_text(training_df.copy())\n",
    "validation_df_cleaned = preprocess_text(validation_df.copy())"
   ]
  },
  {
   "cell_type": "markdown",
   "id": "34dc1ef1",
   "metadata": {},
   "source": [
    "Download NLTK resources and defining a function for all preprocessing steps\n",
    "\n",
    "Ensure text column is string + lowercase texts + remove URLs and any special characters and digits. tokenization and stop word removal\n",
    "\n",
    "preprocessing training and validation datasets"
   ]
  },
  {
   "cell_type": "code",
   "execution_count": 49,
   "id": "585f7a73",
   "metadata": {},
   "outputs": [
    {
     "name": "stdout",
     "output_type": "stream",
     "text": [
      "id           0\n",
      "topic        0\n",
      "sentiment    0\n",
      "text         0\n",
      "dtype: int64\n",
      "id           0\n",
      "topic        0\n",
      "sentiment    0\n",
      "text         0\n",
      "dtype: int64\n"
     ]
    }
   ],
   "source": [
    "print(training_df_cleaned.isnull().sum())\n",
    "print(validation_df_cleaned.isnull().sum())"
   ]
  },
  {
   "cell_type": "markdown",
   "id": "0bcadb9b",
   "metadata": {},
   "source": [
    "check for any remaining null values or anomalies"
   ]
  },
  {
   "cell_type": "code",
   "execution_count": 50,
   "id": "6448bf40",
   "metadata": {},
   "outputs": [
    {
     "name": "stderr",
     "output_type": "stream",
     "text": [
      "[nltk_data] Downloading package punkt to\n",
      "[nltk_data]     C:\\Users\\alkha\\AppData\\Roaming\\nltk_data...\n",
      "[nltk_data]   Package punkt is already up-to-date!\n",
      "[nltk_data] Downloading package stopwords to\n",
      "[nltk_data]     C:\\Users\\alkha\\AppData\\Roaming\\nltk_data...\n",
      "[nltk_data]   Package stopwords is already up-to-date!\n"
     ]
    },
    {
     "data": {
      "text/plain": [
       "True"
      ]
     },
     "execution_count": 50,
     "metadata": {},
     "output_type": "execute_result"
    }
   ],
   "source": [
    "nltk.download('punkt')\n",
    "nltk.download('stopwords')"
   ]
  },
  {
   "cell_type": "code",
   "execution_count": 51,
   "id": "7429a570",
   "metadata": {},
   "outputs": [],
   "source": [
    "le = LabelEncoder()\n",
    "\n",
    "train_labels = le.fit_transform(training_df_cleaned['sentiment'])\n",
    "validation_labels = le.transform(validation_df_cleaned['sentiment'])"
   ]
  },
  {
   "cell_type": "markdown",
   "id": "5d502524",
   "metadata": {},
   "source": [
    "Initializin LabelEncoder to fit the encoder to the sentiment labels and transform them to numeric form"
   ]
  },
  {
   "cell_type": "markdown",
   "id": "5dc378c7",
   "metadata": {},
   "source": [
    "# Feature Extraction with TF-IDF:"
   ]
  },
  {
   "cell_type": "code",
   "execution_count": 52,
   "id": "dae5dcbe",
   "metadata": {},
   "outputs": [],
   "source": [
    "vectorizer = TfidfVectorizer(max_features=5000)\n",
    "X_train_tfidf = vectorizer.fit_transform(training_df_cleaned['text'])\n",
    "X_validation_tfidf = vectorizer.transform(validation_df_cleaned['text'])"
   ]
  },
  {
   "cell_type": "markdown",
   "id": "15f0686f",
   "metadata": {},
   "source": [
    "Initialize the TF-IDF vectorizer\n",
    "Limit to 5000 most important features\n",
    "Fit and transform the training data to create the TF-IDF features\n",
    "Transform the validation data to the same feature matrix\n",
    "Now, X_train_tfidf and X_validation_tfidf are the feature matrices that we'll use for training and validation"
   ]
  },
  {
   "cell_type": "code",
   "execution_count": 53,
   "id": "0f855a9f",
   "metadata": {},
   "outputs": [],
   "source": [
    "vectorizer = TfidfVectorizer(ngram_range=(1, 3), max_features=5000)\n",
    "X_train_tfidf = vectorizer.fit_transform(training_df_cleaned['text'])\n",
    "X_validation_tfidf = vectorizer.transform(validation_df_cleaned['text'])"
   ]
  },
  {
   "cell_type": "markdown",
   "id": "a9a1221f",
   "metadata": {},
   "source": [
    "tuning"
   ]
  },
  {
   "cell_type": "markdown",
   "id": "91f68a2b",
   "metadata": {},
   "source": [
    "# Encode Target Labels:"
   ]
  },
  {
   "cell_type": "code",
   "execution_count": 54,
   "id": "c42968f1",
   "metadata": {},
   "outputs": [],
   "source": [
    "le = LabelEncoder()\n",
    "y_train = le.fit_transform(training_df_cleaned['sentiment'])\n",
    "y_validation = le.transform(validation_df_cleaned['sentiment'])"
   ]
  },
  {
   "cell_type": "markdown",
   "id": "a2615ea0",
   "metadata": {},
   "source": [
    "Initialize the LabelEncoder\n",
    "Fit and transform the sentiment labels to numerical format"
   ]
  },
  {
   "cell_type": "markdown",
   "id": "6eb0726c",
   "metadata": {},
   "source": [
    "# Model Training with Logistic Regression:"
   ]
  },
  {
   "cell_type": "code",
   "execution_count": 55,
   "id": "c0c6c56f",
   "metadata": {},
   "outputs": [
    {
     "name": "stdout",
     "output_type": "stream",
     "text": [
      "Validation Accuracy: 0.7847847847847848\n",
      "              precision    recall  f1-score   support\n",
      "\n",
      "  Irrelevant       0.79      0.73      0.76       171\n",
      "    Negative       0.76      0.85      0.80       266\n",
      "     Neutral       0.81      0.71      0.75       285\n",
      "    Positive       0.79      0.84      0.81       277\n",
      "\n",
      "    accuracy                           0.78       999\n",
      "   macro avg       0.79      0.78      0.78       999\n",
      "weighted avg       0.79      0.78      0.78       999\n",
      "\n"
     ]
    }
   ],
   "source": [
    "lr_model = LogisticRegression(max_iter=1000)\n",
    "lr_model.fit(X_train_tfidf, y_train)\n",
    "y_pred = lr_model.predict(X_validation_tfidf)\n",
    "\n",
    "print(f\"Validation Accuracy: {accuracy_score(y_validation, y_pred)}\")\n",
    "print(classification_report(y_validation, y_pred, target_names=le.classes_))"
   ]
  },
  {
   "cell_type": "markdown",
   "id": "2d2fa9c2",
   "metadata": {},
   "source": [
    "Initialize the Logistic Regression model\n",
    "Increased max_iter for convergence with large datasets\n",
    "Train the model on the training data\n",
    "Predict the sentiment labels for the validation set\n",
    "Evaluate the model"
   ]
  },
  {
   "cell_type": "code",
   "execution_count": 56,
   "id": "9aed528d",
   "metadata": {},
   "outputs": [
    {
     "name": "stdout",
     "output_type": "stream",
     "text": [
      "Best parameters: {'C': 0.1, 'max_iter': 1000, 'solver': 'liblinear'}\n"
     ]
    }
   ],
   "source": [
    "param_grid = {'C': [0.01, 0.1, 1, 10, 100], 'solver': ['liblinear', 'saga'], 'max_iter': [1000]}\n",
    "\n",
    "grid_search = GridSearchCV(LogisticRegression(), param_grid, cv=5, scoring='accuracy')\n",
    "\n",
    "grid_search.fit(X_train_tfidf, y_train)\n",
    "\n",
    "print(\"Best parameters:\", grid_search.best_params_)"
   ]
  },
  {
   "cell_type": "markdown",
   "id": "326e6908",
   "metadata": {},
   "source": [
    " Tuning\n",
    " \n",
    " Defining the parameter grid and initializing grid search model to fit it to the data"
   ]
  },
  {
   "cell_type": "markdown",
   "id": "f76670b9",
   "metadata": {},
   "source": [
    "# Custom Sentiment Analysis with LSTM in PyTorch"
   ]
  },
  {
   "cell_type": "code",
   "execution_count": 57,
   "id": "50ccc089",
   "metadata": {},
   "outputs": [],
   "source": [
    "class SentimentLSTM(nn.Module):\n",
    "    def __init__(self, vocab_size, embedding_dim, hidden_dim, output_dim, n_layers,\n",
    "                 bidirectional, dropout):\n",
    "        super().__init__()\n",
    "        \n",
    "        self.embedding = nn.Embedding(vocab_size, embedding_dim)\n",
    "        \n",
    "        self.lstm = nn.LSTM(embedding_dim, \n",
    "                            hidden_dim, \n",
    "                            num_layers=n_layers, \n",
    "                            bidirectional=bidirectional, \n",
    "                            dropout=dropout, \n",
    "                            batch_first=True)\n",
    "        \n",
    "        self.fc = nn.Linear(hidden_dim * 2 if bidirectional else hidden_dim, output_dim)\n",
    "        \n",
    "        self.dropout = nn.Dropout(dropout)\n",
    "    \n",
    "    def forward(self, text):\n",
    "        embedded = self.dropout(self.embedding(text))\n",
    "        \n",
    "        output, (hidden, cell) = self.lstm(embedded)\n",
    "        \n",
    "        hidden = torch.cat((hidden[-2,:,:], hidden[-1,:,:]), dim=1)\n",
    "        \n",
    "        hidden = self.dropout(hidden)\n",
    "        \n",
    "        return self.fc(hidden)"
   ]
  },
  {
   "cell_type": "markdown",
   "id": "36f04fc6",
   "metadata": {},
   "source": [
    "Defining the LSTM Model\n",
    "text = [batch size, sent_length]\n",
    "embedded = [batch size, sent_length, emb dim]\n",
    "output = [batch size, sent_length, hid dim * num directions]\n",
    "hidden = [num layers * num directions, batch size, hid dim]\n",
    "hidden = [batch size, hid dim * num directions]"
   ]
  },
  {
   "cell_type": "code",
   "execution_count": 58,
   "id": "27dfe876",
   "metadata": {},
   "outputs": [
    {
     "name": "stdout",
     "output_type": "stream",
     "text": [
      "Requirement already satisfied: torch in c:\\users\\alkha\\anaconda3\\lib\\site-packages (2.2.2)\n",
      "Requirement already satisfied: torchvision in c:\\users\\alkha\\anaconda3\\lib\\site-packages (0.17.2)\n",
      "Requirement already satisfied: torchaudio in c:\\users\\alkha\\anaconda3\\lib\\site-packages (2.2.2)\n",
      "Requirement already satisfied: torchtext in c:\\users\\alkha\\anaconda3\\lib\\site-packages (0.17.2)\n",
      "Requirement already satisfied: sympy in c:\\users\\alkha\\anaconda3\\lib\\site-packages (from torch) (1.10.1)\n",
      "Requirement already satisfied: networkx in c:\\users\\alkha\\anaconda3\\lib\\site-packages (from torch) (2.8.4)\n",
      "Requirement already satisfied: filelock in c:\\users\\alkha\\anaconda3\\lib\\site-packages (from torch) (3.6.0)\n",
      "Requirement already satisfied: typing-extensions>=4.8.0 in c:\\users\\alkha\\anaconda3\\lib\\site-packages (from torch) (4.9.0)\n",
      "Requirement already satisfied: fsspec in c:\\users\\alkha\\anaconda3\\lib\\site-packages (from torch) (2024.3.1)\n",
      "Requirement already satisfied: jinja2 in c:\\users\\alkha\\anaconda3\\lib\\site-packages (from torch) (2.11.3)\n",
      "Requirement already satisfied: pillow!=8.3.*,>=5.3.0 in c:\\users\\alkha\\anaconda3\\lib\\site-packages (from torchvision) (9.2.0)\n",
      "Requirement already satisfied: numpy in c:\\users\\alkha\\anaconda3\\lib\\site-packages (from torchvision) (1.21.5)\n",
      "Requirement already satisfied: requests in c:\\users\\alkha\\anaconda3\\lib\\site-packages (from torchtext) (2.28.1)\n",
      "Requirement already satisfied: tqdm in c:\\users\\alkha\\anaconda3\\lib\\site-packages (from torchtext) (4.64.1)\n",
      "Requirement already satisfied: MarkupSafe>=0.23 in c:\\users\\alkha\\anaconda3\\lib\\site-packages (from jinja2->torch) (2.0.1)\n",
      "Requirement already satisfied: urllib3<1.27,>=1.21.1 in c:\\users\\alkha\\anaconda3\\lib\\site-packages (from requests->torchtext) (1.26.11)\n",
      "Requirement already satisfied: charset-normalizer<3,>=2 in c:\\users\\alkha\\anaconda3\\lib\\site-packages (from requests->torchtext) (2.0.4)\n",
      "Requirement already satisfied: idna<4,>=2.5 in c:\\users\\alkha\\anaconda3\\lib\\site-packages (from requests->torchtext) (3.3)\n",
      "Requirement already satisfied: certifi>=2017.4.17 in c:\\users\\alkha\\anaconda3\\lib\\site-packages (from requests->torchtext) (2022.9.14)\n",
      "Requirement already satisfied: mpmath>=0.19 in c:\\users\\alkha\\anaconda3\\lib\\site-packages (from sympy->torch) (1.2.1)\n",
      "Requirement already satisfied: colorama in c:\\users\\alkha\\anaconda3\\lib\\site-packages (from tqdm->torchtext) (0.4.6)\n",
      "Note: you may need to restart the kernel to use updated packages.\n"
     ]
    }
   ],
   "source": [
    "pip install torch torchvision torchaudio torchtext"
   ]
  },
  {
   "cell_type": "code",
   "execution_count": 59,
   "id": "50369553",
   "metadata": {},
   "outputs": [],
   "source": [
    "texts = [\"This is an example.\", \"PyTorch makes these tasks quite easy.\"]\n",
    "labels = [1, 0] \n",
    "\n",
    "tokenizer = get_tokenizer('basic_english')\n",
    "tokenized_texts = [tokenizer(text) for text in texts]\n",
    "\n",
    "vocab = build_vocab_from_iterator(tokenized_texts, specials=[\"<unk>\"])\n",
    "vocab.set_default_index(vocab[\"<unk>\"])\n",
    "\n",
    "numericalized_texts = [torch.tensor(vocab(tokenized_text)) for tokenized_text in tokenized_texts]\n",
    "\n",
    "padded_texts = pad_sequence(numericalized_texts, batch_first=True)\n",
    "\n",
    "class TextDataset(Dataset):\n",
    "    def __init__(self, texts, labels):\n",
    "        self.texts = texts\n",
    "        self.labels = labels\n",
    "    \n",
    "    def __len__(self):\n",
    "        return len(self.labels)\n",
    "    \n",
    "    def __getitem__(self, idx):\n",
    "        return self.texts[idx], self.labels[idx]\n",
    "\n",
    "dataset = TextDataset(padded_texts, torch.tensor(labels))\n",
    "\n",
    "dataloader = DataLoader(dataset, batch_size=2, shuffle=True)"
   ]
  },
  {
   "cell_type": "markdown",
   "id": "ee351aa6",
   "metadata": {},
   "source": [
    "Data Preparation\n",
    "\n",
    "Sample dataset and sample binary labels for demonstration\n",
    "\n",
    "Tokenization and Building vocabulary\n",
    "\n",
    "Numericalize texts + Pad sequences + Creating datasets \n",
    "\n",
    "DataLoader"
   ]
  },
  {
   "cell_type": "code",
   "execution_count": 60,
   "id": "e6089ec2",
   "metadata": {},
   "outputs": [],
   "source": [
    "class SentimentLSTM(nn.Module):\n",
    "    def __init__(self, vocab_size, embedding_dim, hidden_dim, output_dim, dropout):\n",
    "        super().__init__()\n",
    "        self.embedding = nn.Embedding(vocab_size, embedding_dim)\n",
    "        self.lstm = nn.LSTM(embedding_dim, hidden_dim, batch_first=True)\n",
    "        self.fc = nn.Linear(hidden_dim, output_dim)\n",
    "        self.dropout = nn.Dropout(dropout)\n",
    "    \n",
    "    def forward(self, text):\n",
    "        embedded = self.dropout(self.embedding(text))\n",
    "        _, (hidden, _) = self.lstm(embedded)\n",
    "        hidden = self.dropout(hidden[-1])\n",
    "        return self.fc(hidden)\n",
    "\n",
    "model = SentimentLSTM(len(vocab), embedding_dim=100, hidden_dim=256, output_dim=1, dropout=0.5)"
   ]
  },
  {
   "cell_type": "markdown",
   "id": "21cf7c47",
   "metadata": {},
   "source": [
    "Defining the LSTM Model\n",
    "\n",
    "Model instantiation"
   ]
  },
  {
   "cell_type": "code",
   "execution_count": 61,
   "id": "ef36be31",
   "metadata": {},
   "outputs": [],
   "source": [
    "criterion = nn.BCEWithLogitsLoss()\n",
    "optimizer = torch.optim.Adam(model.parameters())\n",
    "\n",
    "def train(model, dataloader, optimizer, criterion):\n",
    "    model.train()\n",
    "    for texts, labels in dataloader:\n",
    "        optimizer.zero_grad()\n",
    "        predictions = model(texts).squeeze(1)\n",
    "        loss = criterion(predictions, labels.float())\n",
    "        loss.backward()\n",
    "        optimizer.step()\n",
    "\n",
    "train(model, dataloader, optimizer, criterion)"
   ]
  },
  {
   "cell_type": "markdown",
   "id": "f03e27e5",
   "metadata": {},
   "source": [
    "Training the Model\n",
    "\n",
    "binary classification problem\n",
    "\n",
    "Sample training call"
   ]
  },
  {
   "cell_type": "code",
   "execution_count": 62,
   "id": "1988d260",
   "metadata": {},
   "outputs": [
    {
     "name": "stdout",
     "output_type": "stream",
     "text": [
      "Accuracy: 1.0\n",
      "ROC AUC: 1.0\n"
     ]
    }
   ],
   "source": [
    "def evaluate(model, dataloader, criterion):\n",
    "    model.eval() \n",
    "    predictions = []\n",
    "    actuals = []\n",
    "    with torch.no_grad():  \n",
    "        for texts, labels in dataloader:\n",
    "            output = model(texts).squeeze(1)\n",
    "            preds = torch.sigmoid(output).cpu().numpy()  \n",
    "            predictions.extend(preds)\n",
    "            actuals.extend(labels.cpu().numpy())\n",
    "    \n",
    "    binary_predictions = [1 if pred >= 0.5 else 0 for pred in predictions]\n",
    "    \n",
    "    acc = accuracy_score(actuals, binary_predictions)\n",
    "    roc_auc = roc_auc_score(actuals, predictions)  \n",
    "    \n",
    "    return acc, roc_auc\n",
    "\n",
    "accuracy, roc_auc = evaluate(model, dataloader, criterion)\n",
    "print(f\"Accuracy: {accuracy}\")\n",
    "print(f\"ROC AUC: {roc_auc}\")"
   ]
  },
  {
   "cell_type": "markdown",
   "id": "c20efaa4",
   "metadata": {},
   "source": [
    "Model Evaluation\n",
    "\n",
    "Setting for evaluation mode\n",
    "\n",
    "Instructing PyTorch to not compute gradients\n",
    "\n",
    "Applying sigmoid and moving to CPU\n",
    "\n",
    "Converting predictions to binary outcomes\n",
    "\n",
    "Compute metrics\n",
    "\n",
    "Using raw probabilities for AUC"
   ]
  },
  {
   "cell_type": "markdown",
   "id": "8091a29c",
   "metadata": {},
   "source": [
    "# experimenting "
   ]
  },
  {
   "cell_type": "code",
   "execution_count": 63,
   "id": "782bd585",
   "metadata": {},
   "outputs": [
    {
     "name": "stdout",
     "output_type": "stream",
     "text": [
      "Naive Bayes Validation Accuracy: 0.6876876876876877\n"
     ]
    }
   ],
   "source": [
    "nb_model = MultinomialNB()\n",
    "nb_model.fit(X_train_tfidf, y_train)\n",
    "y_pred_nb = nb_model.predict(X_validation_tfidf)\n",
    "\n",
    "print(f\"Naive Bayes Validation Accuracy: {accuracy_score(y_validation, y_pred_nb)}\")"
   ]
  },
  {
   "cell_type": "markdown",
   "id": "a5a7a0d4",
   "metadata": {},
   "source": [
    "Naive bayes model"
   ]
  },
  {
   "cell_type": "code",
   "execution_count": 64,
   "id": "aac1fd8e",
   "metadata": {},
   "outputs": [
    {
     "name": "stderr",
     "output_type": "stream",
     "text": [
      "Some weights of DistilBertForSequenceClassification were not initialized from the model checkpoint at distilbert-base-uncased and are newly initialized: ['classifier.bias', 'classifier.weight', 'pre_classifier.bias', 'pre_classifier.weight']\n",
      "You should probably TRAIN this model on a down-stream task to be able to use it for predictions and inference.\n"
     ]
    }
   ],
   "source": [
    "tokenizer = DistilBertTokenizer.from_pretrained('distilbert-base-uncased')\n",
    "\n",
    "model = DistilBertForSequenceClassification.from_pretrained('distilbert-base-uncased', num_labels=3)"
   ]
  },
  {
   "cell_type": "code",
   "execution_count": 65,
   "id": "98c5453b",
   "metadata": {},
   "outputs": [],
   "source": [
    "train_texts = training_df_cleaned['text'].tolist()\n",
    "validation_texts = validation_df_cleaned['text'].tolist()"
   ]
  },
  {
   "cell_type": "code",
   "execution_count": 66,
   "id": "0df2bebf",
   "metadata": {},
   "outputs": [],
   "source": [
    "def tokenize_texts(texts):\n",
    "    return tokenizer(texts, padding=\"max_length\", truncation=True, max_length=128, return_tensors=\"pt\")"
   ]
  },
  {
   "cell_type": "code",
   "execution_count": 67,
   "id": "ab053774",
   "metadata": {},
   "outputs": [],
   "source": [
    "train_encodings = tokenize_texts(train_texts)\n",
    "validation_encodings = tokenize_texts(validation_texts)"
   ]
  },
  {
   "cell_type": "code",
   "execution_count": 68,
   "id": "13bf52b2",
   "metadata": {},
   "outputs": [],
   "source": [
    "class SentimentDataset(torch.utils.data.Dataset):\n",
    "    def __init__(self, encodings, labels):\n",
    "        self.encodings = encodings\n",
    "        self.labels = labels\n",
    "\n",
    "    def __getitem__(self, idx):\n",
    "        item = {key: torch.tensor(val[idx]) for key, val in self.encodings.items()}\n",
    "        item['labels'] = torch.tensor(self.labels[idx], dtype=torch.long)\n",
    "        return item\n",
    "\n",
    "    def __len__(self):\n",
    "        return len(self.labels)\n",
    "\n",
    "train_dataset = SentimentDataset(train_encodings, train_labels)\n",
    "validation_dataset = SentimentDataset(validation_encodings, validation_labels)"
   ]
  },
  {
   "cell_type": "code",
   "execution_count": 69,
   "id": "ab016b67",
   "metadata": {},
   "outputs": [],
   "source": [
    "def tokenize_function(examples):\n",
    "    texts = examples['text'].tolist()
    "    return tokenizer(texts, padding=\"max_length\", truncation=True, max_length=128)"
   ]
  },
  {
   "cell_type": "code",
   "execution_count": 70,
   "id": "48df290e",
   "metadata": {},
   "outputs": [],
   "source": [
    "train_encodings = tokenize_function(training_df_cleaned)\n",
    "validation_encodings = tokenize_function(validation_df_cleaned)"
   ]
  },
  {
   "cell_type": "code",
   "execution_count": 71,
   "id": "23e3b7ac",
   "metadata": {},
   "outputs": [],
   "source": [
    "class SentimentDataset(torch.utils.data.Dataset):\n",
    "    def __init__(self, encodings, labels):\n",
    "        self.encodings = encodings\n",
    "        self.labels = labels\n",
    "\n",
    "    def __getitem__(self, idx):\n",
    "        item = {key: torch.tensor(val[idx]) for key, val in self.encodings.items()}\n",
    "        item['labels'] = torch.tensor(self.labels[idx], dtype=torch.long)
    "\n",
    "    def __len__(self):\n",
    "        return len(self.labels)"
   ]
  },
  {
   "cell_type": "code",
   "execution_count": 72,
   "id": "c8847c51",
   "metadata": {},
   "outputs": [],
   "source": [
    "train_dataset = SentimentDataset(train_encodings, train_labels)\n",
    "validation_dataset = SentimentDataset(validation_encodings, validation_labels)"
   ]
  },
  {
   "cell_type": "code",
   "execution_count": 73,
   "id": "9253781c",
   "metadata": {},
   "outputs": [],
   "source": [
    "class SentimentDataset(Dataset):\n",
    "    def __init__(self, encodings, labels):\n",
    "        self.encodings = encodings\n",
    "        self.labels = labels\n",
    "\n",
    "    def __len__(self):\n",
    "        return len(self.labels)\n",
    "\n",
    "    def __getitem__(self, idx):\n",
    "        item = {key: torch.tensor(val[idx]) for key, val in self.encodings.items()}\n",
    "        item['labels'] = torch.tensor(self.labels[idx], dtype=torch.long)\n",
    "        return item"
   ]
  },
  {
   "cell_type": "markdown",
   "id": "777cc44d",
   "metadata": {},
   "source": [
    "# Evaluation"
   ]
  },
  {
   "cell_type": "code",
   "execution_count": 74,
   "id": "5755506f",
   "metadata": {},
   "outputs": [
    {
     "name": "stdout",
     "output_type": "stream",
     "text": [
      "Accuracy: 0.7847847847847848\n",
      "\n",
      "Classification Report:\n",
      "              precision    recall  f1-score   support\n",
      "\n",
      "  Irrelevant       0.79      0.73      0.76       171\n",
      "    Negative       0.76      0.85      0.80       266\n",
      "     Neutral       0.81      0.71      0.75       285\n",
      "    Positive       0.79      0.84      0.81       277\n",
      "\n",
      "    accuracy                           0.78       999\n",
      "   macro avg       0.79      0.78      0.78       999\n",
      "weighted avg       0.79      0.78      0.78       999\n",
      "\n"
     ]
    },
    {
     "data": {
      "image/png": "iVBORw0KGgoAAAANSUhEUgAAAxEAAAJuCAYAAADPZI/GAAAAOXRFWHRTb2Z0d2FyZQBNYXRwbG90bGliIHZlcnNpb24zLjUuMiwgaHR0cHM6Ly9tYXRwbG90bGliLm9yZy8qNh9FAAAACXBIWXMAAA9hAAAPYQGoP6dpAAB1oklEQVR4nO3dd3xUVfrH8e8kpAOBACEEEjpIlaZA6EiRzqKigksVlCIgVUAp0rNKEaQjTRBYKQKiC9IEASH0JkhvydJbEkLK/f3Bz9kMCUwGw8yEfN77uq/NnHvm3mfGSybPPOfcYzIMwxAAAAAApJCLowMAAAAAkLaQRAAAAACwCUkEAAAAAJuQRAAAAACwCUkEAAAAAJuQRAAAAACwCUkEAAAAAJuQRAAAAACwCUkEAAAAAJuQRABwWocOHVL79u2VP39+eXp6KmPGjCpXrpxCQ0N18+bN53ru/fv3q0aNGvL19ZXJZNLEiRNT/Rwmk0nDhg1L9eNaM2/ePJlMJplMJm3ZsiXJfsMwVKhQIZlMJtWsWfOZzjF16lTNmzfPpuds2bLliTEBAJxLBkcHAADJmTVrlrp27aqiRYuqX79+Kl68uGJjYxUWFqbp06dr586dWrly5XM7f4cOHRQZGaklS5Yoa9asypcvX6qfY+fOncqTJ0+qHzelMmXKpDlz5iRJFLZu3arTp08rU6ZMz3zsqVOnKnv27GrXrl2Kn1OuXDnt3LlTxYsXf+bzAgDsgyQCgNPZuXOnunTporp162rVqlXy8PAw76tbt6769Omjn3/++bnGcOTIEXXq1EkNGjR4bueoVKnSczt2Srz99ttatGiRvv76a2XOnNncPmfOHFWuXFl37961SxyxsbEymUzKnDmzw98TAEDKMJwJgNMZPXq0TCaTZs6caZFA/MXd3V1NmzY1P05ISFBoaKheeukleXh4yN/fX23atNGlS5csnlezZk2VLFlSe/bsUbVq1eTt7a0CBQpo7NixSkhIkPS/oT5xcXGaNm2aediPJA0bNsz8c2J/PefcuXPmtk2bNqlmzZrKli2bvLy8FBwcrDfeeENRUVHmPskNZzpy5IiaNWumrFmzytPTU2XKlNH8+fMt+vw17Oe7777T4MGDFRgYqMyZM6tOnTo6ceJEyt5kSe+++64k6bvvvjO33blzR8uXL1eHDh2Sfc7w4cNVsWJF+fn5KXPmzCpXrpzmzJkjwzDMffLly6ejR49q69at5vfvr0rOX7EvXLhQffr0Ue7cueXh4aFTp04lGc50/fp1BQUFKSQkRLGxsebjHzt2TD4+PvrnP/+Z4tcKAEhdJBEAnEp8fLw2bdqk8uXLKygoKEXP6dKliwYMGKC6detq9erVGjFihH7++WeFhITo+vXrFn0jIiLUunVrvffee1q9erUaNGiggQMH6ttvv5UkNWrUSDt37pQkvfnmm9q5c6f5cUqdO3dOjRo1kru7u7755hv9/PPPGjt2rHx8fPTw4cMnPu/EiRMKCQnR0aNH9dVXX2nFihUqXry42rVrp9DQ0CT9Bw0apPPnz2v27NmaOXOm/vzzTzVp0kTx8fEpijNz5sx688039c0335jbvvvuO7m4uOjtt99+4mv74IMPtGzZMq1YsUItWrTQRx99pBEjRpj7rFy5UgUKFFDZsmXN79/jQ88GDhyoCxcuaPr06VqzZo38/f2TnCt79uxasmSJ9uzZowEDBkiSoqKi9NZbbyk4OFjTp09P0esEADwHBgA4kYiICEOS8c4776So//Hjxw1JRteuXS3af//9d0OSMWjQIHNbjRo1DEnG77//btG3ePHiRv369S3aJBndunWzaBs6dKiR3K/NuXPnGpKMs2fPGoZhGN9//70hyThw4MBTY5dkDB061Pz4nXfeMTw8PIwLFy5Y9GvQoIHh7e1t3L592zAMw9i8ebMhyWjYsKFFv2XLlhmSjJ07dz71vH/Fu2fPHvOxjhw5YhiGYbzyyitGu3btDMMwjBIlShg1atR44nHi4+ON2NhY4/PPPzeyZctmJCQkmPc96bl/na969epP3Ld582aL9nHjxhmSjJUrVxpt27Y1vLy8jEOHDj31NQIAni8qEQDStM2bN0tSkgm8r776qooVK6aNGzdatAcEBOjVV1+1aCtdurTOnz+fajGVKVNG7u7u6ty5s+bPn68zZ86k6HmbNm3Sa6+9lqQC065dO0VFRSWpiCQe0iU9eh2SbHotNWrUUMGCBfXNN9/o8OHD2rNnzxOHMv0VY506deTr6ytXV1e5ublpyJAhunHjhq5evZri877xxhsp7tuvXz81atRI7777rubPn6/JkyerVKlSKX4+ACD1kUQAcCrZs2eXt7e3zp49m6L+N27ckCTlypUryb7AwEDz/r9ky5YtST8PDw9FR0c/Q7TJK1iwoH755Rf5+/urW7duKliwoAoWLKhJkyY99Xk3btx44uv4a39ij7+Wv+aP2PJaTCaT2rdvr2+//VbTp09XkSJFVK1atWT77t69W/Xq1ZP06O5Zv/32m/bs2aPBgwfbfN7kXufTYmzXrp0ePHiggIAA5kIAgBMgiQDgVFxdXfXaa69p7969SSZGJ+evP6TDw8OT7Lty5YqyZ8+earF5enpKkmJiYizaH593IUnVqlXTmjVrdOfOHe3atUuVK1dWr169tGTJkiceP1u2bE98HZJS9bUk1q5dO12/fl3Tp09X+/btn9hvyZIlcnNz09q1a9WyZUuFhISoQoUKz3TO5CaoP0l4eLi6deumMmXK6MaNG+rbt+8znRMAkHpIIgA4nYEDB8owDHXq1CnZicixsbFas2aNJKl27dqSZJ4Y/Zc9e/bo+PHjeu2111Itrr/uMHTo0CGL9r9iSY6rq6sqVqyor7/+WpK0b9++J/Z97bXXtGnTJnPS8JcFCxbI29v7ud3+NHfu3OrXr5+aNGmitm3bPrGfyWRShgwZ5Orqam6Ljo7WwoULk/RNrepOfHy83n33XZlMJv30008aM2aMJk+erBUrVvztYwMAnh3rRABwOpUrV9a0adPUtWtXlS9fXl26dFGJEiUUGxur/fv3a+bMmSpZsqSaNGmiokWLqnPnzpo8ebJcXFzUoEEDnTt3Tp999pmCgoL08ccfp1pcDRs2lJ+fnzp27KjPP/9cGTJk0Lx583Tx4kWLftOnT9emTZvUqFEjBQcH68GDB+Y7INWpU+eJxx86dKjWrl2rWrVqaciQIfLz89OiRYv0448/KjQ0VL6+vqn2Wh43duxYq30aNWqk8ePHq1WrVurcubNu3LihL774Itnb8JYqVUpLlizR0qVLVaBAAXl6ej7TPIahQ4dq27ZtWr9+vQICAtSnTx9t3bpVHTt2VNmyZZU/f36bjwkA+PtIIgA4pU6dOunVV1/VhAkTNG7cOEVERMjNzU1FihRRq1at1L17d3PfadOmqWDBgpozZ46+/vpr+fr66vXXX9eYMWOSnQPxrDJnzqyff/5ZvXr10nvvvacsWbLo/fffV4MGDfT++++b+5UpU0br16/X0KFDFRERoYwZM6pkyZJavXq1eU5BcooWLaodO3Zo0KBB6tatm6Kjo1WsWDHNnTvXppWfn5fatWvrm2++0bhx49SkSRPlzp1bnTp1kr+/vzp27GjRd/jw4QoPD1enTp1079495c2b12IdjZTYsGGDxowZo88++8yiojRv3jyVLVtWb7/9trZv3y53d/fUeHkAABuYDCPRCkEAAAAAYAVzIgAAAADYhCQCAAAAgE1IIgAAAADYhCQCAAAAgE1IIgAAAADYhCQCAAAAgE1IIgAAAADY5IVcbK7TsiOODgHpRGjjYo4OAemEmyvf+cA+HsTGOzoEpBPZMzrvn6FeZbtb75RKovdPsdu5UhOfSgAAAABs4rwpIAAAAOAIJr5nt4Z3CAAAAIBNqEQAAAAAiZlMjo7A6VGJAAAAAGATKhEAAABAYsyJsIp3CAAAAIBNqEQAAAAAiTEnwioqEQAAAABsQiUCAAAASIw5EVbxDgEAAACwCZUIAAAAIDHmRFhFJQIAAACATahEAAAAAIkxJ8Iq3iEAAAAANiGJAAAAAGAThjMBAAAAiTGx2ioqEQAAAABsQiUCAAAASIyJ1VbxDgEAAACwCZUIAAAAIDHmRFhFJQIAAACATahEAAAAAIkxJ8Iq3iEAAAAANqESAQAAACTGnAirqEQAAAAAsAmVCAAAACAx5kRYxTsEAAAAwCZUIgAAAIDEqERYxTsEAAAAwCZUIgAAAIDEXLg7kzVUIgAAAADYhEoEAAAAkBhzIqziHQIAAABgE5IIAAAAADZhOBMAAACQmImJ1dY4RSWiQ4cOunfvXpL2yMhIdejQwQERAQAAAHgSp0gi5s+fr+jo6CTt0dHRWrBggQMiAgAAQLplcrHflkY5dDjT3bt3ZRiGDMPQvXv35Onpad4XHx+vdevWyd/f34ERAgAAAHicQ5OILFmyyGQyyWQyqUiRIkn2m0wmDR8+3AGRAQAAIN1iToRVDk0iNm/eLMMwVLt2bS1fvlx+fn7mfe7u7sqbN68CAwMdGCEAAACAxzk0iahRo4Yk6ezZswoKCpKLS9odFwYAAIAXRBqeq2AvTnGL17x58+r27dvavXu3rl69qoSEBIv9bdq0cVBkAAAAAB7nFEnEmjVr1Lp1a0VGRipTpkwyJRqHZjKZSCIAAABgP8yJsMopajV9+vQxrxVx+/Zt3bp1y7zdvHnT0eEBAAAASMQpKhGXL19Wjx495O3t7ehQAAAAkN4xJ8Iqp3iH6tevr7CwMEeHAQAAACAFnKIS0ahRI/Xr10/Hjh1TqVKl5ObmZrG/adOmDooMAAAA6Q5zIqxyiiSiU6dOkqTPP/88yT6TyaT4+Hh7hwQAAADgCZwiiXj8lq4AAACAwzAnwireIQAAAAA2cYpKhCRFRkZq69atunDhgh4+fGixr0ePHg6KCgAAAOkOcyKscookYv/+/WrYsKGioqIUGRkpPz8/Xb9+Xd7e3vL39yeJAAAAAJyIUwxn+vjjj9WkSRPdvHlTXl5e2rVrl86fP6/y5cvriy++cHR4AAAASE9MLvbb0iiniPzAgQPq06ePXF1d5erqqpiYGAUFBSk0NFSDBg1ydHgAAAAAEnGKJMLNzU2m/x97ljNnTl24cEGS5Ovra/4ZAAAAgHNwijkRZcuWVVhYmIoUKaJatWppyJAhun79uhYuXKhSpUo5OjwAAACkJ2l4mJG9OMU7NHr0aOXKlUuSNGLECGXLlk1dunTR1atXNXPmTAdHBwAAACAxp6hEVKhQwfxzjhw5tG7dOgdGAwAAgHSNW7xa5RSViOHDh+v06dOODgMAAABACjhFErF8+XIVKVJElSpV0pQpU3Tt2jVHhwQAAID0ilu8WuUUkR86dEiHDh1S7dq1NX78eOXOnVsNGzbU4sWLFRUV5ejw0qzC2b3VvWqw/tWkqGa1LKkygZnM+1xN0hulc2povUKa0qK4/tWkqDq8mlu+nk8e4dajWt4kxwGSs39vmPr07KrGdWuoUtni2rr5lyR9zp45rb49u+m1aq+qdpUK6tjmHUWEX3FAtEjL9oXtUa/uH6r+a9VUvvRL2rzJ8lrb9Mt6dfuwo2pXr6TypV/SiT+OOyhSpHULvpmljv9sqTrVXlGjOtX0Se+PdP7cWYs+hmFozoyv1bR+TdUKKafundvpzOlTDooYeL6cIomQpBIlSmj06NE6c+aMNm/erPz586tXr14KCAhwdGhplkcGF126/UCL94Un2eeewUXBWbz047GrGrHhlKb9dkE5M3moe9W8yR6rTpFszztcvECio6NUuEhR9fnk02T3X7p4QR90eE958+fX1FnztHDpSnXo1EXuHh52jhRpXXR0tIoUfUkDBn72xP0vlymnj3r2sXNkeNEc2LdHLd56VzPnfaeJU2cpPj5eH3frpOjo/33ZuWj+HC1ZNF+9BwzWnAVL5Zctu3p1fV+RkZEOjBzPxGSy35ZGOcXE6sf5+PjIy8tL7u7uunfvnqPDSbOORNzXkYj7ye6Ljk3QhF/PWbR9ty9cg+sWlJ+3m25GxZrb8/h6qm6R7Br1y2l92fSl5xkyXhAhVasrpGr1J+6fPmWSQqpW10e9+prbcucJskdoeMFUqVZdVao9+Vpr1KSZJOnK5Uv2CgkvqPFTLO8WOWjYSDWuU00njh9TmXIVZBiGli1eqLYdOqtm7bqSpE+Hj1aTutW14ecf1fyNlo4IG3hunKYScfbsWY0aNUrFixdXhQoVtG/fPg0bNkwRERGODi3d8HJzUYJhKOphvLnN3dWkTpXyaPG+K7r7IM6B0eFFkZCQoB3btyo4OJ96du2kBrWrqsM/3052yBMAOKvI+4++5Myc2VfSo0T1xo3rerVSFXMfd3d3lSlfQYcP7ndIjPgbmBNhlVNUIipXrqzdu3erVKlSat++vVq1aqXcuXOn6LkxMTGKiYmxaIuPfShXN/fnEeoLK4OLSS1KB2j3hTt6EJdgbm9ZJpdO34jSwStUhJA6bt28oaioKC2YO1sfdOuhbj17a9dv2/VJn576euY8lavwiqNDBICnMgxDX40PVeky5VSgUGFJ0s0b1yVJWbNZDv/188vGfC+8kJwiiahVq5Zmz56tEiVK2PzcMWPGaPjw4RZtZd/sovJvdU2t8F54riapc+UgmUzSor3/+0X3cmAmveTvoxEbuP0uUk9CgiFJql6ztt59r60kqUjRYjp08IBWfr+UJAKA0xs/bqRO/3lS0+YsTLLPJMsx7oZhyJSGx72nW/w3s8opkojRo0dLkh4+fKizZ8+qYMGCypAhZaENHDhQvXv3tmjrtYY7IaSUq0n6oHKwsvu46cst5yyqEC/5+yhHRndNal7M4jldQoL15/UofbHl7OOHA6zKkjWLXDNkUL4CBS3a8xUooIP79zkoKgBImfGho7T91y36etZ8+ef8381f/LJll/SoIpE9Rw5z+61bN5XVj5uT4MXjFElEdHS0unfvrvnz50uSTp48qQIFCqhHjx4KDAzUJ5988sTnenh4yOOxO7owlCll/kog/DO564stZxWZaC6EJP30x3VtO3PLom3464W19GC4DjG8Cc/Izc1dxYuX1IXzlknoxfPnlCtXoIOiAoCnMwxD40NH6dfNGzVl5jwF5s5jsT8wdx5ly5Zde37foSIvPfryLTb2oQ7sDVOXHr2TOyScGNUj65wiifjkk0908OBBbdmyRa+//rq5vU6dOho6dOhTkwg8mUcGF/ln/F9ClT2ju4KyeCryYbxuR8fqw5BgBWf10uRt5+ViMinz/68REfkwXvEJhu4+iEt2MvXNyFhdj4xN0g78JSoqUpcuXjA/vnL5sk6eOK7MmX0VkCtQrdt20KcDeqtMuQoqX+FV7dqx/f+/2ZvnuKCRJkVFRerihcTX2iWd+OO4Mvv6KleuQN25c1sR4eG6du2qJJnv658te3Zlz54j2WMCyfly7Aht+Hmdxo6fLG9vb924/mhh3IwZM8nD01Mmk0ktW/1TC76ZpTxBeRUUnFcLvpkpD09P1X29kYOjB1KfyTAMw9FB5M2bV0uXLlWlSpWUKVMmHTx4UAUKFNCpU6dUrlw53b1716bjdVp25DlFmrYUyeGjfrXyJ2nfcfaWVh+9qrGNiyb7vH9tPquT15K/p/WsliX19fbzOkAlQpIU2riY9U7p0N6w3erWqV2S9oZNmmvI54+GL65ZtVzzv5mla1f/q+C8+dTpw+6qXus1O0eadri5pt07eDxPYXt+1wcd2yZpb9y0uYaPHKvVP6zQ8M8GJdnf+cNu+qDrR/YIMc15EBtvvVM6VKV88vM2Bw0dqUZN/yHpUbXim5lT9cPyZbp3766KlyytPgM+NU++hqXsGZ3iu+xk+bw5127nivy+vd3OlZqcIonw9vbWkSNHVKBAAYsk4uDBg6pevbru3Llj0/FIImAvJBGwF5II2AtJBOyFJOKRtJpEOMWn0iuvvKIff/zR/PivcWizZs1S5cqVHRUWAAAA0iOTHbc0yimSiDFjxmjw4MHq0qWL4uLiNGnSJNWtW1fz5s3TqFGjHB0eAAAA4HBjxozRK6+8okyZMsnf31/NmzfXiRMnLPoYhqFhw4YpMDBQXl5eqlmzpo4ePWrRJyYmRh999JGyZ88uHx8fNW3aVJcuXbIpFqdIIkJCQvTbb78pKipKBQsW1Pr165UzZ07t3LlT5cuXd3R4AAAAgMNt3bpV3bp1065du7RhwwbFxcWpXr16ioz831zW0NBQjR8/XlOmTNGePXsUEBCgunXr6t69/81n7dWrl1auXKklS5Zo+/btun//vho3bqz4+JQPZ3SKORGpjTkRsBfmRMBemBMBe2FOBOzFmedEZGw5z27nur+s3TM/99q1a/L399fWrVtVvXp1GYahwMBA9erVSwMGDJD0qOqQM2dOjRs3Th988IHu3LmjHDlyaOHChXr77bclSVeuXFFQUJDWrVun+vXrp+jcDvtUunv3boo3AAAA4EUUExOT5G/fmJiYFD33r5sP+fn5SZLOnj2riIgI1atXz9zHw8NDNWrU0I4dOyRJe/fuVWxsrEWfwMBAlSxZ0twnJRyWRGTJkkVZs2Z96vZXHwAAAMBeTCaT3bYxY8bI19fXYhszZozVGA3DUO/evVW1alWVLFlSkhQRESFJypkzp0XfnDlzmvdFRETI3d09yd/YifukhMPqSJs3b3bUqQEAAACnMHDgQPXubbmquYeHh9Xnde/eXYcOHdL27duT7Ht8xW3DMKyuwp2SPok5LImoUaOGo04NAAAAPJEtf0z/XR4eHilKGhL76KOPtHr1av3666/KkyePuT0gIEDSo2pDrly5zO1Xr141VycCAgL08OFD3bp1y6IacfXqVYWEhKQ4BqeZqbdt2za99957CgkJ0eXLlyVJCxcuTDa7AgAAANIbwzDUvXt3rVixQps2bVL+/Pkt9ufPn18BAQHasGGDue3hw4faunWrOUEoX7683NzcLPqEh4fryJEjaS+JWL58uerXry8vLy/t27fPPJnk3r17Gj16tIOjAwAAQHpizzkRtujWrZu+/fZbLV68WJkyZVJERIQiIiIUHR1tjrtXr14aPXq0Vq5cqSNHjqhdu3by9vZWq1atJEm+vr7q2LGj+vTpo40bN2r//v167733VKpUKdWpUyfFsThFEjFy5EhNnz5ds2bNkpubm7k9JCRE+/btc2BkAAAAgHOYNm2a7ty5o5o1aypXrlzmbenSpeY+/fv3V69evdS1a1dVqFBBly9f1vr165UpUyZznwkTJqh58+Zq2bKlqlSpIm9vb61Zs0aurq4pjsUp1onw9vbWsWPHlC9fPmXKlEkHDx5UgQIFdObMGRUvXlwPHjyw6XisEwF7YZ0I2AvrRMBeWCcC9uLM60T4tlpot3PdWfxPu50rNTnFp1KuXLl06tSpJO3bt29XgQIFHBARAAAAgCdxiiTigw8+UM+ePfX777/LZDLpypUrWrRokfr27auuXbs6OjwAAACkI846J8KZOEUdqX///rpz545q1aqlBw8eqHr16vLw8FDfvn3VvXt3R4cHAAAAIBGHJxHx8fHavn27+vTpo8GDB+vYsWNKSEhQ8eLFlTFjRkeHBwAAgHQmLVcI7MXhSYSrq6vq16+v48ePy8/PTxUqVHB0SAAAAACewinmRJQqVUpnzpxxdBgAAAAAcyJSwCmSiFGjRqlv375au3atwsPDdffuXYsNAAAAgPNw+HAmSXr99dclSU2bNrXIyAzDkMlkUnw896wGAACAfaTlCoG9OEUSsXnzZkeHAAAAACCFHJ5ExMbGatiwYZoxY4aKFCni6HAAAACQ3lGIsMrhcyLc3Nx05MgRykYAAABAGuHwJEKS2rRpozlz5jg6DAAAAAAp4PDhTJL08OFDzZ49Wxs2bFCFChXk4+NjsX/8+PEOigwAAADpDSNkrHOKJOLIkSMqV66cJOnkyZMOjgYAAADA0zhFEsHdmQAAAOAsqERY59AkokWLFlb7mEwmLV++3A7RAAAAAEgJhyYRvr6+jjw9AAAAkASVCOscmkTMnTvXkacHAAAA8AycYk4EAAAA4DQoRFjlFOtEAAAAAEg7qEQAAAAAiTAnwjoqEQAAAABsQiUCAAAASIRKhHVUIgAAAADYhEoEAAAAkAiVCOuoRAAAAACwCZUIAAAAIBEqEdZRiQAAAABgEyoRAAAAQGIUIqyiEgEAAADAJiQRAAAAAGzCcCYAAAAgESZWW0clAgAAAIBNqEQAAAAAiVCJsI5KBAAAAACbUIkAAAAAEqESYR2VCAAAAAA2oRIBAAAAJEYhwioqEQAAAABsQiUCAAAASIQ5EdZRiQAAAABgEyoRAAAAQCJUIqyjEgEAAADAJlQiAAAAgESoRFhHJQIAAACATahEAAAAAIlQibCOSgQAAAAAm1CJAAAAABKjEGEVlQgAAAAANnkhKxGTW5R0dAhIJ7JWHeDoEJBOXPxllKNDQDrh5sr3iwBzIqzjNwUAAAAAm5BEAAAAALDJCzmcCQAAAHhWDGeyjkoEAAAAAJtQiQAAAAASoRBhHZUIAAAAADahEgEAAAAkwpwI66hEAAAAALAJlQgAAAAgEQoR1lGJAAAAAGATKhEAAABAIsyJsI5KBAAAAACbUIkAAAAAEqEQYR2VCAAAAAA2oRIBAAAAJOLiQinCGioRAAAAAGxCJQIAAABIhDkR1lGJAAAAAGATKhEAAABAIqwTYR2VCAAAAAA2IYkAAAAAYBOGMwEAAACJMJrJOioRAAAAAGxCJQIAAABIhInV1lGJAAAAAGATKhEAAABAIlQirKMSAQAAAMAmVCIAAACARChEWEclAgAAAIBNqEQAAAAAiTAnwjoqEQAAAABsQiUCAAAASIRChHVUIgAAAADYhEoEAAAAkAhzIqyjEgEAAADAJlQiAAAAgEQoRFhHJQIAAACATahEAAAAAIkwJ8I6KhEAAAAAbEIlAgAAAEiEQoR1TlOJ2LZtm9577z1VrlxZly9fliQtXLhQ27dvd3BkAAAAABJziiRi+fLlql+/vry8vLR//37FxMRIku7du6fRo0c7ODoAAAAAiTlFEjFy5EhNnz5ds2bNkpubm7k9JCRE+/btc2BkAAAASG9MJpPdtrTKKZKIEydOqHr16knaM2fOrNu3b9s/IAAAAABP5BRJRK5cuXTq1Kkk7du3b1eBAgUcEBEAAADSK5PJflta5RRJxAcffKCePXvq999/l8lk0pUrV7Ro0SL17dtXXbt2dXR4AAAAABJxilu89u/fX3fu3FGtWrX04MEDVa9eXR4eHurbt6+6d+/u6PAAAACQjqTluQr24hRJhCSNGjVKgwcP1rFjx5SQkKDixYsrY8aMjg4LAAAAwGOcIomYP3++3nzzTfn4+KhChQqODgcAAADpGIUI65xiTkTfvn3l7++vd955R2vXrlVcXJyjQwIAAADwBE6RRISHh2vp0qVydXXVO++8o1y5cqlr167asWOHo0MDAABAOsM6EdY5RRKRIUMGNW7cWIsWLdLVq1c1ceJEnT9/XrVq1VLBggUdHR4AAACARJxiTkRi3t7eql+/vm7duqXz58/r+PHjjg4JAAAA6UgaLhDYjVNUIiQpKipKixYtUsOGDRUYGKgJEyaoefPmOnLkiKNDAwAAAJCIU1Qi3n33Xa1Zs0be3t566623tGXLFoWEhDg6LAAAAKRDaXmugr04RRJhMpm0dOlS1a9fXxkyOEVIAAAAAJ7AKf5iX7x4saNDAAAAACRRiUgJhyURX331lTp37ixPT0999dVXT+3bo0cPO0UFAAAAwBqHJRETJkxQ69at5enpqQkTJjyxn8lkIokAAACA3ThrIeLXX3/Vv/71L+3du1fh4eFauXKlmjdvbt7frl07zZ8/3+I5FStW1K5du8yPY2Ji1LdvX3333XeKjo7Wa6+9pqlTpypPnjw2xeKwJOLs2bPJ/gwAAAAgqcjISL388stq37693njjjWT7vP7665o7d675sbu7u8X+Xr16ac2aNVqyZImyZcumPn36qHHjxtq7d69cXV1THItT3OL1888/V1RUVJL26Ohoff755w6ICAAAAHAuDRo00MiRI9WiRYsn9vHw8FBAQIB58/PzM++7c+eO5syZoy+//FJ16tRR2bJl9e233+rw4cP65ZdfbIrFKZKI4cOH6/79+0nao6KiNHz4cAdElH7897//1cABfVU9pKIqln9ZLVs007GjrM2BlOvbpqa2f9NdVzd+rvPrPtOycW1UODi7eX8GVxeN7NZAe77tpeubR+jMmsGaPaSlcmXPlORYFUsG66cpnXR98wiFbxim/0ztLE8Pp7j/A5zUgm9mqeM/W6pOtVfUqE41fdL7I50/Z1ndNgxDc2Z8rab1a6pWSDl179xOZ06fclDESKv27d2j3j26qGHd6nq1TDFt2fTkP7jGjBiqV8sU03ffzn9iHzg3k8lkty0mJkZ379612GJiYp459i1btsjf319FihRRp06ddPXqVfO+vXv3KjY2VvXq1TO3BQYGqmTJktqxY4dN53GKJMIwjGRnwR88eNAie0Lqunvnjtq9964yZHDT19NnacXqH9Wn/yfKlCmzo0NDGlKtbAFNX75TNd7/Wo17zJarq4vWTnpf3p5ukiRvT3eVKZpbY+duUuW2k/TOJwtVODiH/v2vdhbHqVgyWD9M7KiNv/+pah2mqGqHyZr+751KSDAc8KqQVhzYt0ct3npXM+d9p4lTZyk+Pl4fd+uk6Oj/VbcXzZ+jJYvmq/eAwZqzYKn8smVXr67vKzIy0oGRI615EB2twkWKqt8nnz6135ZNv+jI4UPKkcPfTpEhrRszZox8fX0ttjFjxjzTsRo0aKBFixZp06ZN+vLLL7Vnzx7Vrl3bnJRERETI3d1dWbNmtXhezpw5FRERYdO5HPoVX9asWc1ZWJEiRSwSifj4eN2/f18ffvihAyN8sX0zZ5ZyBgRoxKj/Xai5c9s2qQZo9vE3Fo8/GPlvXfx5iMq+lEe/HTiru5EP1LjHbIs+vb/8QdvnfqSgnFl08b+3JUmhvZpo6rLf9MXCLeZ+py/eeM7RI60bP2WmxeNBw0aqcZ1qOnH8mMqUqyDDMLRs8UK17dBZNWvXlSR9Ony0mtStrg0//6jmb7R0RNhIg0KqVldI1epP7XP1v//VF2NHatLUWer9EX+/pGX2nFg9cOBA9e7d26LNw8PjmY719ttvm38uWbKkKlSooLx58+rHH3986hCoJ32h/zQOTSImTpwowzDUoUMHDR8+XL6+vuZ97u7uypcvnypXruzACF9sWzdvUkiVqur7cQ+Fhe2Rv39Ovf1OK73xFh+qeHaZM3pKkm7dTTrPKXGfhIQE3b4XLUnKkdVHr5YM1pL/7NfmmV2VP4+fTp67pmEz/qMdB8/ZI2y8ICLv35MkZc786PPkyuVLunHjul6tVMXcx93dXWXKV9Dhg/tJIpBqEhISNPTTAXqvbQcVLFTY0eEgDfHw8HjmpMGaXLlyKW/evPrzzz8lSQEBAXr48KFu3bplUY24evWqQkJCbDq2Q5OItm3bSpLy58+vkJAQubm5OTKcdOfSpYtatvQ7/bNte3Xs/KGOHD6kcWNGyt3dXU2aNXd0eEijxvVsrN8OnNWxM/9Ndr+HewaN6NpAS9cf0L2oR+XV/IHZJEmD36+jgV+t06E/r6h1g3JaN7mTyrceT0UCKWIYhr4aH6rSZcqpwP//EXfzxnVJUtZs2Sz6+vllU0T4FbvHiBfXgrmzlcHVVW+3+qejQ0EqeFEWm7tx44YuXryoXLlySZLKly8vNzc3bdiwQS1bPvoSJTw8XEeOHFFoaKhNx3aKGYs1atQw/xwdHa3Y2FiL/ZkzP3mMfkxMTJLJJ4br88voXiQJCYZKlCypHr0eldCKFSuu06dOadnS70gi8Ewm9G2mUoUC9Frn6cnuz+DqooUjWsnFxaSeoavM7S4uj35Zz1n5uxb+GCZJOnjyimq+UkhtG7+iIdN+fu6xI+0bP26kTv95UtPmLEyyzyTLPwiepXQPPMnxY0e1ZPFCLfxuOdcVnqv79+/r1Kn/3Rji7NmzOnDggPz8/OTn56dhw4bpjTfeUK5cuXTu3DkNGjRI2bNn1z/+8Q9Jkq+vrzp27Kg+ffooW7Zs8vPzU9++fVWqVCnVqVPHplicYmJ1VFSUunfvLn9/f2XMmFFZs2a12J4mucko/xr3bJNR0pscOXKoQMGCFm0FChRQON/O4RmM79NUjasVV/2uM3X52p0k+zO4umjRqNbKG5hVjT+aba5CSFL49buSpOPnrlo858S5qwoKyPJc48aLYXzoKG3/dYsmz5gr/5wB5na/bI/uFPZXReIvt27dVFY/y+oE8KwO7AvTrZs31LRBbVUuX1KVy5dUePgVTRofqmYNXnN0eHgGJpP9NluEhYWpbNmyKlu2rCSpd+/eKlu2rIYMGSJXV1cdPnxYzZo1U5EiRdS2bVsVKVJEO3fuVKZM/7sj4oQJE9S8eXO1bNlSVapUkbe3t9asWWPTGhGSk1Qi+vXrp82bN2vq1Klq06aNvv76a12+fFkzZszQ2LFjn/rc5CajGK5UIVKiTNlyOvfYQn/nz51TYGBuB0WEtGpCn2ZqWqOE6nWbofPht5Ls/yuBKBiUXa93m6mbj82XOB9+S1eu3lGR4BwW7YWCsmv9zhPPNXakbYZhaHzoKP26eaOmzJynwMduDhGYO4+yZcuuPb/vUJGXikmSYmMf6sDeMHXp0Tu5QwI2a9C4qV6tZDmHs0eXTmrQuKmaNHvyZFbAVjVr1pRhPPmuhf/5z3+sHsPT01OTJ0/W5MmT/1YsTpFErFmzRgsWLFDNmjXVoUMHVatWTYUKFVLevHm1aNEitW7d+onPTW4yyoO45x3xi+G9Nm3V9r13NXvmdNWr30BHDh/S998v05BhLPCHlJvYr7nerldGb/Wfr/uRMcrpl1GSdCfygR7ExMnV1UWLx7ynskVzq0WfeXJ1MZn73Lwbrdi4eEnShEW/6tNOdXX4z3Ad/POK3mtYXkXz+qvVoG8d9trg/L4cO0Ibfl6nseMny9vbWzeuX5MkZcyYSR6enjKZTGrZ6p9a8M0s5QnKq6DgvFrwzUx5eHqq7uuNHBw90pKoqEhdunDB/PjK5Us6+cdxZfb1VUCuQGXJYjlyIkOGDMqWLbvy5stv71CRClwYlmaVUyQRN2/eVP78j/6RZc6cWTdv3pQkVa1aVV26dHFkaC+0kqVKa/ykKfpq4njNmPa1cufJo/4DBqlR46aODg1pyAdvPPr2bcM0y9sZdhqxTN/+uFe5/X3VpHoJSdLub3tZ9KnXdYa27TsjSZqydLs83TMotFdjZc3srcN/hqtxz9k6e/nm838RSLNWfr9UktS9czuL9kFDR6pR00djgFu37aiYmBh9OXaE7t27q+IlS2vi17Pk4+Nj73CRhh0/elRdOrU1P5745ThJUqMmzTV0BMOokf6YjKfVROykdOnSmjx5smrUqKF69eqpdOnS+uKLL/TVV18pNDRUly5dsul4VCJgL1mrDnB0CEgnLv4yytEhIJ1wc3WK6ZJIB3y9nPdaq/f1Lruda323SnY7V2pyiv967du318GDByU9muMwdepUeXh46OOPP1a/fv0cHB0AAACAxJxiONPHH39s/rlWrVr6448/FBYWpoIFC+rll192YGQAAABIb7hVr3VOkUQ8Ljg4WMHBwY4OAwAAAEAynCKJ+Oqrr5JtN5lM8vT0VKFChVS9enWb718LAAAA2MqFQoRVTpFETJgwQdeuXVNUVJSyZs0qwzB0+/ZteXt7K2PGjLp69aoKFCigzZs3KygoyNHhAgAAAOmaU0ysHj16tF555RX9+eefunHjhm7evKmTJ0+qYsWKmjRpki5cuKCAgACLuRMAAADA82Aymey2pVVOUYn49NNPtXz5chUsWNDcVqhQIX3xxRd64403dObMGYWGhuqNN95wYJQAAAAAJCdJIsLDwxUXl3Rxh7i4OEVEREiSAgMDde/ePXuHBgAAgHQmDRcI7MYphjPVqlVLH3zwgfbv329u279/v7p06aLatWtLkg4fPmxe1RoAAACA4zhFEjFnzhz5+fmpfPny8vDwkIeHhypUqCA/Pz/NmTNHkpQxY0Z9+eWXDo4UAAAAgFMMZwoICNCGDRv0xx9/6OTJkzIMQy+99JKKFi1q7lOrVi0HRggAAID0wiTGM1njFEnEXwoUKCCTyaSCBQsqQwanCg0AAADA/3OK4UxRUVHq2LGjvL29VaJECV24cEGS1KNHD40dO9bB0QEAACA9cTHZb0urnCKJGDhwoA4ePKgtW7bI09PT3F6nTh0tXbrUgZEBAAAAeJxTjBlatWqVli5dqkqVKlksulG8eHGdPn3agZEBAAAgvUnLi8DZi1NUIq5duyZ/f/8k7ZGRkfxHBAAAAJyMUyQRr7zyin788Ufz478Sh1mzZqly5cqOCgsAAADpkMlkvy2tSpXhTLdv31aWLFme+fljxozR66+/rmPHjikuLk6TJk3S0aNHtXPnTm3dujU1QgQAAACQSmyuRIwbN85isnPLli2VLVs25c6dWwcPHnymIEJCQvTbb78pKipKBQsW1Pr165UzZ07t3LlT5cuXf6ZjAgAAAM/CxWSy25ZW2VyJmDFjhr799ltJ0oYNG7Rhwwb99NNPWrZsmfr166f169c/UyClSpXS/Pnzn+m5AAAAAOzH5iQiPDxcQUFBkqS1a9eqZcuWqlevnvLly6eKFSvadCwXFxerE6dNJpPi4uJsDRMAAAB4Jmm4QGA3NicRWbNm1cWLFxUUFKSff/5ZI0eOlCQZhqH4+HibjrVy5con7tuxY4cmT54swzBsDREAAADAc2RzEtGiRQu1atVKhQsX1o0bN9SgQQNJ0oEDB1SoUCGbjtWsWbMkbX/88YcGDhyoNWvWqHXr1hoxYoStIQIAAADPjCUGrLN5YvWECRPUvXt3FS9eXBs2bFDGjBklPRrm1LVr12cO5MqVK+rUqZNKly6tuLg47d+/X/Pnz1dwcPAzHxMAAABA6rO5EuHm5qa+ffsmae/Vq9czBXDnzh2NHj1akydPVpkyZbRx40ZVq1btmY4FAAAA/F0UIqxLURKxevXqFB+wadOmKe4bGhqqcePGKSAgQN99912yw5sAAAAAOBeTkYKZyy4uKRv1ZDKZbJpc7eLiIi8vL9WpU0eurq5P7LdixYoUH1OSHnAzJ9hJ1qoDHB0C0omLv4xydAhIJ9xcbR7pDDwTXy/nvdbenr/fbuda2ras3c6VmlJUiUhISHguJ2/Tpg0TVwAAAIA0xuY5EYk9ePBAnp6ez/z8efPm/Z3TAwAAAHAAm+tI8fHxGjFihHLnzq2MGTPqzJkzkqTPPvtMc+bMSfUAAQAAAHsy2XFLq2xOIkaNGqV58+YpNDRU7u7u5vZSpUpp9uzZqRocAAAAAOdjcxKxYMECzZw5U61bt7aYDF26dGn98ccfqRocAAAAYG8mk8luW1plcxJx+fLlZFemTkhIUGxsbKoEBQAAAMB52ZxElChRQtu2bUvS/u9//1tly6bNW1QBAAAAf3Ex2W9Lq2y+O9PQoUP1z3/+U5cvX1ZCQoJWrFihEydOaMGCBVq7du3ziBEAAACAE7G5EtGkSRMtXbpU69atk8lk0pAhQ3T8+HGtWbNGdevWfR4xAgAAAHbDnAjrnmmdiPr166t+/fqpHQsAAACANOCZF5sLCwvT8ePHZTKZVKxYMZUvXz414wIAAAAcIg0XCOzG5iTi0qVLevfdd/Xbb78pS5YskqTbt28rJCRE3333nYKCglI7RgAAAABOxOY5ER06dFBsbKyOHz+umzdv6ubNmzp+/LgMw1DHjh2fR4wAAACA3TAnwjqbKxHbtm3Tjh07VLRoUXNb0aJFNXnyZFWpUiVVgwMAAADgfGxOIoKDg5NdVC4uLk65c+dOlaAAAAAAR0nL6zfYi83DmUJDQ/XRRx8pLCxMhmFIejTJumfPnvriiy9SPUAAAAAAziVFlYisWbNajNmKjIxUxYoVlSHDo6fHxcUpQ4YM6tChg5o3b/5cAgUAAADsIS3PVbCXFCUREydOfM5hAAAAAEgrUpREtG3b9nnHAQAAADgF6hDWPfNic5IUHR2dZJJ15syZ/1ZAAAAAAJybzUlEZGSkBgwYoGXLlunGjRtJ9sfHx6dKYAAAAIAjuDAnwiqb787Uv39/bdq0SVOnTpWHh4dmz56t4cOHKzAwUAsWLHgeMQIAAABwIjZXItasWaMFCxaoZs2a6tChg6pVq6ZChQopb968WrRokVq3bv084gQAAADgJGyuRNy8eVP58+eX9Gj+w82bNyVJVatW1a+//pq60QEAAAB2ZjLZb0urbE4iChQooHPnzkmSihcvrmXLlkl6VKHIkiVLasYGAAAAwAnZPJypffv2OnjwoGrUqKGBAweqUaNGmjx5suLi4jR+/PjnESMAAABgNyw2Z53NScTHH39s/rlWrVr6448/FBYWpoIFC+rll19O1eAAAAAAOB+bhzM9Ljg4WC1atJCfn586dOiQGjEBAAAADsOcCOv+dhLxl5s3b2r+/PmpdTgAAAAATupvrVgNAAAAvGhYbM66VKtEAAAAAEgfqEQAAAAAiVCIsC7FSUSLFi2euv/27dt/NxYAAAAAaUCKkwhfX1+r+9u0afO3AwIAAAAciXUirEtxEjF37tznGQcAAACANOKFnBMR/TDe0SEgnTj0wzBHh4B0Il+Hbx0dAtKJEzNbOToEpBO+Xu6ODuGJuPOQdbxHAAAAAGzyQlYiAAAAgGfFnAjrqEQAAAAAsAmVCAAAACARFwoRVqUoiVi9enWKD9i0adNnDgYAAACA80tREtG8efMUHcxkMik+njsjAQAAAC+yFCURCQkJzzsOAAAAwCkwnMk6JlYDAAAAsMkzTayOjIzU1q1bdeHCBT18+NBiX48ePVIlMAAAAMARuMWrdTYnEfv371fDhg0VFRWlyMhI+fn56fr16/L29pa/vz9JBAAAAPCCs3k408cff6wmTZro5s2b8vLy0q5du3T+/HmVL19eX3zxxfOIEQAAALAbF5P9trTK5iTiwIED6tOnj1xdXeXq6qqYmBgFBQUpNDRUgwYNeh4xAgAAAHAiNicRbm5u5nFiOXPm1IULFyRJvr6+5p8BAACAtMpkst+WVtk8J6Js2bIKCwtTkSJFVKtWLQ0ZMkTXr1/XwoULVapUqecRIwAAAAAnYnMlYvTo0cqVK5ckacSIEcqWLZu6dOmiq1evaubMmakeIAAAAGBPLiaT3ba0yuZKRIUKFcw/58iRQ+vWrUvVgAAAAAA4t2daJwIAAAB4UbEas3U2JxH58+d/6gIcZ86c+VsBAQAAAHBuNicRvXr1sngcGxur/fv36+eff1a/fv1SKy4AAADAIdLwVAW7sTmJ6NmzZ7LtX3/9tcLCwv52QAAAAACcW6oN+WrQoIGWL1+eWocDAAAAHIK7M1mXaknE999/Lz8/v9Q6HAAAAAAn9UyLzSWeWG0YhiIiInTt2jVNnTo1VYMDAAAA7C0NFwjsxuYkolmzZhZJhIuLi3LkyKGaNWvqpZdeStXgAAAAADgfm5OIYcOGPYcwAAAAAOfgQiXCKpvnRLi6uurq1atJ2m/cuCFXV9dUCQoAAACA87I5iTAMI9n2mJgYubu7/+2AAAAAADi3FA9n+uqrryRJJpNJs2fPVsaMGc374uPj9euvvzInAgAAAGleWr71qr2kOImYMGGCpEeViOnTp1sMXXJ3d1e+fPk0ffr01I8QAAAAgFNJcRJx9uxZSVKtWrW0YsUKZc2a9bkFBQAAADgKhQjrbL470+bNm59HHAAAAADSCJsnVr/55psaO3ZskvZ//etfeuutt1IlKAAAAMBRXEz229Iqm5OIrVu3qlGjRknaX3/9df3666+pEhQAAAAA52XzcKb79+8neytXNzc33b17N1WCAgAAABzFpDRcIrATmysRJUuW1NKlS5O0L1myRMWLF0+VoAAAAAA4L5srEZ999pneeOMNnT59WrVr15Ykbdy4Ud99953+/e9/p3qAAAAAgD2l5bkK9mJzEtG0aVOtWrVKo0eP1vfffy8vLy+VLl1av/zyi2rUqPE8YgQAAADgRGxOIiSpUaNGyU6uPnDggMqUKfN3YwIAAAAchkqEdTbPiXjcnTt3NHXqVJUrV07ly5dPjZgAAAAAOLFnTiI2bdqk1q1bK1euXJo8ebIaNmyosLCw1IwNAAAAsDuTyWS3La2yaTjTpUuXNG/ePH3zzTeKjIxUy5YtFRsbq+XLl3NnJgAAACCdSHElomHDhipevLiOHTumyZMn68qVK5o8efLzjA0AAACwO1asti7FScT69ev1/vvva/jw4WrUqJFcXV2fZ1wAAAAAEvn111/VpEkTBQYGymQyadWqVRb7DcPQsGHDFBgYKC8vL9WsWVNHjx616BMTE6OPPvpI2bNnl4+Pj5o2bapLly7ZHEuKk4ht27bp3r17qlChgipWrKgpU6bo2rVrNp8QAAAAcGYmk/02W0RGRurll1/WlClTkt0fGhqq8ePHa8qUKdqzZ48CAgJUt25d3bt3z9ynV69eWrlypZYsWaLt27fr/v37aty4seLj422KJcVJROXKlTVr1iyFh4frgw8+0JIlS5Q7d24lJCRow4YNFsEBAAAASF0NGjTQyJEj1aJFiyT7DMPQxIkTNXjwYLVo0UIlS5bU/PnzFRUVpcWLF0t6dFfVOXPm6Msvv1SdOnVUtmxZffvttzp8+LB++eUXm2Kx+e5M3t7e6tChg7Zv367Dhw+rT58+Gjt2rPz9/dW0adMUH+fu3bsp3gAAAIAXUUxMTJK/fWNiYmw+ztmzZxUREaF69eqZ2zw8PFSjRg3t2LFDkrR3717FxsZa9AkMDFTJkiXNfVLqb60TUbRoUYWGhurSpUv67rvvbHpulixZlDVr1qduf/UBAAAA7MXFZLLbNmbMGPn6+lpsY8aMsTnmiIgISVLOnDkt2nPmzGneFxERIXd39yR/Xyfuk1LPtGL141xdXdW8eXM1b948xc/ZvHlzapwaAAAASLMGDhyo3r17W7R5eHg88/EeX3vCMAyr61GkpM/jUiWJeBY1atRw1KkBAACAJ7LnrVc9PDz+VtLwl4CAAEmPqg25cuUyt1+9etVcnQgICNDDhw9169Yti2rE1atXFRISYtP5/tZwptQWFRWlP/74Q4cOHbLYAAAAADxZ/vz5FRAQoA0bNpjbHj58qK1bt5oThPLly8vNzc2iT3h4uI4cOWJzEuGwSkRi165dU/v27fXTTz8lu9/WW04BAAAAz8rWW6/ay/3793Xq1Cnz47Nnz+rAgQPy8/NTcHCwevXqpdGjR6tw4cIqXLiwRo8eLW9vb7Vq1UqS5Ovrq44dO6pPnz7Kli2b/Pz81LdvX5UqVUp16tSxKRanSCJ69eqlW7duadeuXapVq5ZWrlyp//73vxo5cqS+/PJLR4cHAAAAOFxYWJhq1aplfvzXXIq2bdtq3rx56t+/v6Kjo9W1a1fdunVLFStW1Pr165UpUybzcyZMmKAMGTKoZcuWio6O1muvvaZ58+bZvJC0yTAMI3Ve1rPLlSuXfvjhB7366qvKnDmzwsLCVKRIEa1evVqhoaHavn27Tce7FUXlAvZx/d5DR4eAdKLsR0sdHQLSiRMzWzk6BKQTubO4OzqEJ/r6t3N2O1e3Kvnsdq7U5BRzIiIjI+Xv7y9J8vPzM6+EXapUKe3bt8+RoQEAAAB4jFMkEUWLFtWJEyckSWXKlNGMGTN0+fJlTZ8+3WJ2OQAAAPC8mUz229Iqp5kTER4eLkkaOnSo6tevr0WLFsnd3V3z5s1zbHAAAAAALDhFEtG6dWvzz2XLltW5c+f0xx9/KDg4WNmzZ3dgZAAAAEhv7LlORFrl8OFMsbGxKlCggI4dO2Zu8/b2Vrly5UggAAAAACfk8EqEm5ubYmJibF5qGwAAAHgeXPi71CqHVyIk6aOPPtK4ceMUFxfn6FAAAAAAWOHwSoQk/f7779q4caPWr1+vUqVKycfHx2L/ihUrHBQZAAAA0hsKEdY5RRKRJUsWvfHGG44O44W3f2+Yvl3wjU4cO6rr169p3PivVKPW/5Y4r1S2eLLP696rj95r29FeYeIFsG7VMq1b9W/9N+KKJCk4f0G927azKlSqKkm6dfOG5k2fqP17diny/j2VeLmcPug5QLmD8joybDi5Ps1LqemreVUkt68ePIzTrpPXNOTbMP0Zftei36C3yqj9a0WUJaO7wv68rt5zdun4pdvm/e1fK6KWVQvo5fx+yuztrtztFutOFAtH4ukWz5utbVt+0YXzZ+Xh4akSpV5Wp+4fKzhvfnOf6Kgozfx6gn7bukl3795RQK5A/aNlazV7420HRg48H06RRMydO9fRIaQL0dFRKlykqBo3/YcG9u2ZZP+PG7ZaPN752zaNGv6Zar1Wz14h4gWRLUdOtf2ghwLzBEuSNv68WiMH9dKkOUsUnK+gRg7+WBlcM+jT0RPk7ZNRq5Yu1Ke9P9S0BSvk6eXl4OjhrKoWD9DM//yhfaevy9XVpKHvlNMPn9ZThd6rFBXzaDjsx81Kqnuj4vpw6nadCr+r/i1e1upP66lsrxW6/+BRHy+PDNpw4LI2HLisz1uXd+RLQhpycH+Ymr35jooWL6mEuHjNmf6V+vf4QHOXrJKXl7ck6euJoTqwd7cGDR+rgFyBCvt9hyb+a5SyZ8+hKjVqO/gVwBbMibDOKeZE1K5dW7dv307SfvfuXdWuzT+61BJStbo+7NZTtV6rm+z+bNlzWGy/btmk8q+8qtx5guwcKdK6ilVq6JXK1ZQ7KK9yB+VVm04fydPLWyeOHtaVSxd04ughde0zSEWKlVSe4Hzq0nuQHkRHaevGnxwdOpzYP0Zv0KKtp3T80m0dOX9LXaZuV3COjCpbIJu5T7eGxfWvlYe0evcFHbt4W52/3iYvjwxqWbWAuc/Udcc0/ofD2vPnNUe8DKRR4yZN1+uNmyt/gUIqWKSo+n82QlcjwnXyj//dXfLY4YOq37CpypR/RQGBudX4H2+pYKEiOnH8qAMjB54Pp0gitmzZoocPk5aSHzx4oG3btjkgIty4cV2/bf9VTZozzAx/T3x8vLZu/FkPHkTrpZKlFfv//9bd3T3MfVxdXZUhg5uOHdrvqDCRBmX2dpck3bofI0nK559RAVm9tfHgFXOfh3EJ2n4sQhWL+jskRry4Iu/flyRlzuxrbiv1clnt2LZF167+V4ZhaH/Ybl26eF6vVKrioCjxrFix2jqHDmc6dOiQ+edjx44pIiLC/Dg+Pl4///yzcufO7YjQ0r11a36Qj7e3atZOvmoBWHPu9J/q27WNHj58KC8vLw0eOV7B+QoqLi5W/gG5NH/mV+re9zN5eHpp1dKFunXzum7euO7osJGGjGn7inYc/6+OXbwtScqZ5dFQuKt3oi36XbsTraDsGe0dHl5ghmFo6qR/qdTL5ZS/YGFze/c+A/Xl6GF6u0kdubpmkIuLSX0GDVepMuUcGC3wfDg0iShTpoxMJpNMJlOyw5a8vLw0efLkpx4jJiZGMTExlm3xGeTh4fGEZyAl1v6wQvUaNOZ9xDPLHZxPX81Zqsj79/Tb1o2aMHqIxk6ereB8BTVoxJeaNG6Y3mlUXS6uripTvqLKV+SbOqTc+I4VVTLYT3WHrEuyzzAeazCZ9HgT8Hd89a9ROnPqpL6aMd+ifcXSRTp25JBGfjFZOQNy6dCBvZr0r5HKlj27yr9a2UHRAs+HQ5OIs2fPyjAMFShQQLt371aOHDnM+9zd3eXv7y9XV9enHmPMmDEaPny4RVv/QZ/pk8FDn0vM6cGBfWE6f+6sRo790tGhIA1zc3MzT6wu/FIJ/fnHUa3+92J17/eZChUtrsnfLFPk/XuKi4uVbxY/9f7gPRUumvwdwoDEvmhfUQ3LB6v+0J905WaUuf2/tx9VIHJm8TL/LEk5MnsmqU4Az+qrL0Zrx7YtmjhjnnLkDDC3xzx4oDnTJunzcZNUqWp1SVLBwkV1+uQJLVs0nyQijXGK8f5OzqFJRN68j27nmJCQ8MzHGDhwoHr37m3RFhXvFDedSrNWr1qhl4qVUOGiLzk6FLxADMNQbKzl3CefjJkkSZcvntepE8f0XseujggNaciXHSqqyavBajDsZ52/dt9i37mr9xVxK0q1Swfq0LmbkiQ3VxdVLR6gIYvCHBEuXiCGYeirL0Zr+9ZNmjD1G+UKzGOxPy4uTnFxcTK5WA5yd3Fx+Vt/5wDOyin+2l6wYMFT97dp0+aJ+zw8PJIMuYmPik+VuF40UVGRunTxgvnxlcuXdfLEcWXO7KuAXIGSHk0U27ThP+rRu5+jwsQLYP7Mr1S+YlXl8M+p6Kgo/brpZx05EKbh//pakrR983plzpJV/jlz6dzpPzVzcqgqVa2lcq+GODhyOLMJHSvpraoF9E7oRt2LjpO/76M5EHejHupB7KPf+1+vO6a+/yit0+F3dTrirvr+o7SiY+K0bPsZ83H8fb2UM4uXCgQ8SmJLBGfRveg4Xbp+X7ciWS8CyZv0r1Ha+J91GvmvSfL28THP4fLxySgPT0/5ZMyol8tV0IzJ4+Xh4amcuXLp4L4wrf9pjbr05DM1rTGl5RnPdmIyjCSjR+0ua9asFo9jY2MVFRUld3d3eXt76+bNmzYd7xZJRLL2hu1Wt07tkrQ3bNJcQz4fLUlatXyZJnwxVj+u36qMmTLZOcK05/o9/uBIzqSxw3Rw3++6eeO6fHwyKl/BInqzVTuVfeVROX/194u14rv5un3rhrJmy6Ha9Rvrnbad5ebm5uDInVfZj5Y6OgSHu7+sXbLtH3y9XYu2njI/HvRWGXWoU0RZfDwUduqaes/ZZZ58/df+QW+VsXqc9OrEzFaODsEp1a5YKtn2/p+N0OuNm0uSbt64rllfT1TY7p26d/eOcgbkUuPmb+rNd9vwR2kycmdxd3QITzQ/7KLdztW2Qtq8lb5TJBHJ+fPPP9WlSxf169dP9evXt+m5JBGwF5II2AtJBOyFJAL24sxJxAI7JhFt0mgS4bTzRgoXLqyxY8eqZ8+kKysDAAAAcBynmBPxJK6urrpy5Yr1jgAAAEAqcWH4mVVOkUSsXr3a4rFhGAoPD9eUKVNUpQr3jgcAAACciVMkEc2bN7d4bDKZlCNHDtWuXVtffslaBQAAALAf6hDWOUUSwf2TAQAAgLTDqSZWP3z4UCdOnFBcXJyjQwEAAEA6ZTLZb0urnCKJiIqKUocOHeTt7a0SJUrowoVHC6L16NFDY8eOdXB0AAAAABJziiRi4MCBOnTokLZs2SJPT09ze506dbR0KfdGBwAAgP2YTCa7bWmVU8yJWLVqlZYuXapKlSpZvJnFixfX6dOnHRgZAAAAgMc5RRJx7do1+fv7J2mPjIxM0xkaAAAA0h6nGKrj5JziPXrllVf0448/mh//lTjMmjVLlStXdlRYAAAAAJLhFJWIMWPG6PXXX9exY8cUFxenSZMm6ejRo9q5c6e2bt3q6PAAAACQjjASxjqnqESEhITot99+U1RUlAoWLKj169crZ86c2rlzp8qXL+/o8AAAAAAk4hSVCEkqVaqU5s+f7+gwAAAAAFjh0CTCxcXFarnIZDKx+BwAAADshsFM1jk0iVi5cuUT9+3YsUOTJ0+WYRh2jAgAAACANQ5NIpo1a5ak7Y8//tDAgQO1Zs0atW7dWiNGjHBAZAAAAEivmFhtnVNMrJakK1euqFOnTipdurTi4uK0f/9+zZ8/X8HBwY4ODQAAAEAiDk8i7ty5owEDBqhQoUI6evSoNm7cqDVr1qhUqVKODg0AAADpkIsdt7TKocOZQkNDNW7cOAUEBOi7775LdngTAAAAAOfi0CTik08+kZeXlwoVKqT58+c/8RavK1assHNkAAAASK+YE2GdQ5OINm3a8B8JAAAASGMcmkTMmzfPkacHAAAAkuArbuvS8nwOAAAAAA7g0EoEAAAA4GwYbW8dlQgAAAAANqESAQAAACTiwqwIq6hEAAAAALAJlQgAAAAgEeZEWEclAgAAAIBNqEQAAAAAiZiYE2EVlQgAAAAANqESAQAAACTCnAjrqEQAAAAAsAlJBAAAAACbMJwJAAAASITF5qyjEgEAAADAJlQiAAAAgESYWG0dlQgAAAAANqESAQAAACRCJcI6KhEAAAAAbEIlAgAAAEjExN2ZrKISAQAAAMAmVCIAAACARFwoRFhFJQIAAACATahEAAAAAIkwJ8I6KhEAAAAAbEIlAgAAAEiEdSKsoxIBAAAAwCZUIgAAAIBEmBNhHZUIAAAAADahEgEAAAAkwjoR1lGJAAAAAGATkggAAAAANmE4EwAAAJAIE6utoxIBAAAAwCZUIgAAAIBEWGzOOioRAAAAAGxCJQIAAABIhEKEdVQiAAAAANiESgQAAACQiAuTIqyiEgEAAADAJibDMAxHB5HaIh++cC8JTuphXIKjQwCAVBVYpaejQ0A6Eb1/iqNDeKJdp27b7VyVCmWx27lSE5UIAAAAADZhTgQAAACQGFMirKISAQAAAMAmVCIAAACAREyUIqyiEgEAAADAJlQiAAAAgERYJsI6KhEAAAAAbEIlAgAAAEiEQoR1VCIAAAAA2IRKBAAAAJAYpQirqEQAAAAAsAlJBAAAAACbMJwJAAAASITF5qyjEgEAAADAJlQiAAAAgERYbM46KhEAAAAAbEIlAgAAAEiEQoR1VCIAAAAA2IRKBAAAAJAYpQirqEQAAAAAsAmVCAAAACAR1omwjkoEAAAAAJtQiQAAAAASYZ0I66hEAAAAALAJlQgAAAAgEQoR1lGJAAAAANKAYcOGyWQyWWwBAQHm/YZhaNiwYQoMDJSXl5dq1qypo0ePPpdYSCIAAACAxEx23GxUokQJhYeHm7fDhw+b94WGhmr8+PGaMmWK9uzZo4CAANWtW1f37t2z/URWkEQAAAAAaUSGDBkUEBBg3nLkyCHpURVi4sSJGjx4sFq0aKGSJUtq/vz5ioqK0uLFi1M9DpIIAAAAIBGTHf8XExOju3fvWmwxMTFPjO3PP/9UYGCg8ufPr3feeUdnzpyRJJ09e1YRERGqV6+eua+Hh4dq1KihHTt2pPp7RBIBAAAAOMiYMWPk6+trsY0ZMybZvhUrVtSCBQv0n//8R7NmzVJERIRCQkJ048YNRURESJJy5sxp8ZycOXOa96Um7s4EAAAAOMjAgQPVu3dvizYPD49k+zZo0MD8c6lSpVS5cmUVLFhQ8+fPV6VKlSRJpscWuTAMI0lbaqASAQAAACRiMtlv8/DwUObMmS22JyURj/Px8VGpUqX0559/mu/S9HjV4erVq0mqE6mBJAIAAABIg2JiYnT8+HHlypVL+fPnV0BAgDZs2GDe//DhQ23dulUhISGpfm6GMwEAAACJOOtic3379lWTJk0UHBysq1evauTIkbp7967atm0rk8mkXr16afTo0SpcuLAKFy6s0aNHy9vbW61atUr1WEgiAAAAgDTg0qVLevfdd3X9+nXlyJFDlSpV0q5du5Q3b15JUv/+/RUdHa2uXbvq1q1bqlixotavX69MmTKleiwmwzCMVD+qg0U+fOFeEpzUw7gER4cAAKkqsEpPR4eAdCJ6/xRHh/BERy7ft9u5SubOaLdzpSbmRAAAAACwCcOZAAAAgERMTjsrwnlQiQAAAABgEyoRAAAAQCLPYW22Fw6VCAAAAAA2oRIBAAAAJEIhwjoqEQAAAABsQiUCAAAASIxShFVOU4lYuHChqlSposDAQJ0/f16SNHHiRP3www8OjgwAAABAYk6RREybNk29e/dWw4YNdfv2bcXHx0uSsmTJookTJzo2OAAAAKQrJjv+L61yiiRi8uTJmjVrlgYPHixXV1dze4UKFXT48GEHRgYAAADgcU4xJ+Ls2bMqW7ZsknYPDw9FRkY6ICIAAACkV6wTYZ1TVCLy58+vAwcOJGn/6aefVLx4cfsHBAAAAOCJnKIS0a9fP3Xr1k0PHjyQYRjavXu3vvvuO40ZM0azZ892dHgAAAAAEnGKJKJ9+/aKi4tT//79FRUVpVatWil37tyaNGmS3nnnHUeHBwAAgHSE0UzWmQzDMBwdRGLXr19XQkKC/P39n/kYkQ+d6iXhBfYwLsHRIQBAqgqs0tPRISCdiN4/xdEhPNHJiCi7natIgLfdzpWanGJOxPDhw3X69GlJUvbs2f9WAgEAAAD8LSY7bmmUUyQRy5cvV5EiRVSpUiVNmTJF165dc3RIAAAAAJ7AKZKIQ4cO6dChQ6pdu7bGjx+v3Llzq2HDhlq8eLGiouxXTgIAAABYbM46p0giJKlEiRIaPXq0zpw5o82bNyt//vzq1auXAgICHB0aAAAAgESc4u5Mj/Px8ZGXl5fc3d117949R4cDAACAdITF5qxzmkrE2bNnNWrUKBUvXlwVKlTQvn37NGzYMEVERDg6NAAAAACJOEUlonLlytq9e7dKlSql9u3bm9eJAAAAAOyNQoR1TpFE1KpVS7Nnz1aJEiUcHQoAAAAAK5wiiRg9erSjQwAAAAAeoRRhlcOSiN69e2vEiBHy8fFR7969n9p3/PjxdorqxbY3bI8WzJuj48eO6vq1a/py4hTVeq2Oeb9hGJoxbYpWfL9M9+7eVclSpfXJ4CEqWKiwA6NGWrR/b5i+XfCNThw7quvXr2nc+K9Uo9b/rrVKZYsn+7zuvfrovbYd7RUmXgBca3ge+naop+a1X1aRfDkVHROr3w+e0eBJP+jP81fNfQZ/0FBv1S+nPAFZ9TA2XvuPX9CwKWu058h5c5/Jg99R7YpFlSuHr+5Hx2jXwbP6dNIPOnnuv454WUCqclgSsX//fsXGxpp/xvP3IDpaRYq8pKbNW6jfxz2S7J//zWwtWjBPw0aOUd68+TR75nR16dxBK9f8JB+fjA6IGGlVdHSUChcpqsZN/6GBfXsm2f/jhq0Wj3f+tk2jhn+mWq/Vs1eIeEFwreF5qFaukKYv/VV7j55XhgyuGtatidZO666yLUYq6sFDSdKp81f18bh/6+yl6/LycNNH79XWmqndVbLZcF2/dV+StP/4RS35aY8uht+Sn6+3Bn/YSGundtNLjYcqIcFw5EuEFWl5/QZ7cVgSsXnz5mR/xvNTpVp1ValWPdl9hmFo8bcL1LHTh3qtzqMP189HjVWdmlX0049r9WbLd+wZKtK4kKrVFVI1+WtNkrJlz2Hx+Nctm1T+lVeVO0/Q8w4NLxiuNTwPzbpPtXj8wbBvdXHTWJUtHqTf9p2WJC39Ocyiz4AvV6j9P0JUsnCgtuw+KUn6ZsVv5v0Xwm9q+NdrtGfZIOUNzKazl64/51cBPF9OcYvXDh06JLseRGRkpDp06OCAiNKfy5cu6fr1a6oUUsXc5u7urvLlX9Ghg1SK8PzcuHFdv23/VU2av+HoUPCC41rDs8qc0VOSdOtOVLL73TK4qmOLKrp9L0qHT15Oto+3p7vaNK2ks5eu61LErecWK1KHyWS/La1yiiRi/vz5io6OTtIeHR2tBQsWPPW5MTExunv3rsUWExPzvEJ9Yd24cU2SlC1bNot2v2zZdP0635bg+Vm35gf5eHurZu26jg4FLziuNTyrcX3e0G/7TunY6XCL9gbVSurab1/q9u8T9NF7tdT4wym6cTvSok/nt6rp2m9f6sbO8aobUlyNukxRbFy8PcMHnguHJhF3797VnTt3ZBiG7t27Z5EI3Lp1S+vWrZO/v/9TjzFmzBj5+vpabF+EjrHTK3gBJZMSm9Jymgynt/aHFarXoLE8PDwcHQpecFxreBYTPmmpUoUD1XbgvCT7tu45qYrvjFGtduO1fscxfRvaQTmyWs4hXPLTHlV6d6zqdJygUxev6dtxHeTh7hQ3x8RTmOy4pVUOvYqzZMkik8kkk8mkIkWKJNlvMpk0fPjwpx5j4MCBSe7uFGdyT9U404Ns2R6NG75x/bpy5Phf4nbzxo0k1QkgtRzYF6bz585q5NgvHR0KXnBca3gW4we8pcY1SqlOx4m6fPV2kv1RDx7qzMXrOnPxunYfPqfDPwxR23+E6Itv1pv73L3/QHfvP9DpC9e0+9A5hf8aqma1X9ayn/fa8ZUAqc+hScTmzZtlGIZq166t5cuXy8/Pz7zP3d1defPmVWBg4FOP4eHhkeRbpciH3PHAVrnz5FH27Dm0a+cOvVTs0S0RY2Mfau/ePerRq4+Do8OLavWqFXqpWAkVLvqSo0PBC45rDbaaMOAtNa39sup1mqTzV26k6DkmmeTh9vQ/rUwyyd1KHziBtFwisBOHXsU1atSQJJ09e1bBwcEMm3nOoqIidfHCBfPjy5cv6cQfx5XZ11e5cgWq1Xtt9M3sGQrOm1fBwXn1zawZ8vT0VINGjR0YNdKiqKhIXbr4v2vtyuXLOnniuDJn9lVArkdfDETev69NG/6jHr37OSpMvAC41vA8TBzYUm83qKC3Pp6p+5EPlDNbJknSnfsP9CAmVt6e7hrwfn39uPWwIq7fkZ+vjzq3rK7cObNoxYZ9kqR8ubPpzfrltXHncV2/dV+B/lnUp10dRcfE6j/bjzry5QGpwmFJxKFDh1SyZEm5uLjozp07Onz48BP7li5d2o6RvbiOHT2izh3amh+P/9dYSVKTps01fNRYte3wvh7EPNDYkZ/r7t07KlmqtKbOmMMaEbDZ8WNH1a1TO/PjSV+OkyQ1bNJcQz5/tEL9hv+skyFD9V5v5IgQ8YLgWsPz8EHLR7cN3jC7l0V7pyEL9e2a3xWfkKCi+XLqvSYVlS2Lj27eiVLY0fOq02GCjp+JkCTFPIxTlbIF1b1VTWXN7K2rN+5p+75TqtXuS137/3UkgLTMZBiGQ8b+uLi4KCIiQv7+/nJxcZHJZFJyoZhMJsXH23YXA4YzwV4exiU4OgQASFWBVZIu2gc8D9H7pzg6hCc6f8N+d/rMmy1t3uzBYZWIs2fPKkeOHOafAQAAAKQNDksi8ubNm+zPAAAAgCMxTdc6p1ls7scffzQ/7t+/v7JkyaKQkBCdP3/egZEBAAAAeJxTJBGjR4+Wl5eXJGnnzp2aMmWKQkNDlT17dn388ccOjg4AAADpCYvNWecUNyq+ePGiChUqJElatWqV3nzzTXXu3FlVqlRRzZo1HRscAAAAAAtOUYnImDGjbtx4tJDL+vXrVadOHUmSp6enoqOjHRkaAAAA0hmTyX5bWuUUlYi6devq/fffV9myZXXy5Ek1avToXt5Hjx5Vvnz5HBscAAAAAAtOUYn4+uuvVblyZV27dk3Lly9XtmzZJEl79+7Vu+++6+DoAAAAkL4wK8Iahy029zyx2BzshcXmALxoWGwO9uLMi81duvXQbufKk9XdbudKTU4xnEmSbt++rTlz5uj48eMymUwqVqyYOnbsKF9fX0eHBgAAgHQkLc9VsBenGM4UFhamggULasKECbp586auX7+uCRMmqGDBgtq3b5+jwwMAAACQiFMMZ6pWrZoKFSqkWbNmKUOGR8WRuLg4vf/++zpz5ox+/fVXm47HcCbYC8OZALxoGM4Ee3Hm4UxXbttvOFNgFoYzPbOwsDCLBEKSMmTIoP79+6tChQoOjAwAAADA45xiOFPmzJl14cKFJO0XL15UpkyZHBARAAAA0ivWibDOKZKIt99+Wx07dtTSpUt18eJFXbp0SUuWLNH777/PLV4BAAAAJ+MUw5m++OILubi4qE2bNoqLi5Mkubm5qUuXLho7dqyDowMAAEB6YkrD6zfYi0OTiKioKPXr10+rVq1SbGysmjdvru7du8vX11eFChWSt7e3I8MDAAAAkAyHJhFDhw7VvHnz1Lp1a3l5eWnx4sVKSEjQv//9b0eGBQAAAOApHJpErFixQnPmzNE777wjSWrdurWqVKmi+Ph4ubq6OjI0AAAApFeMZrLKoROrL168qGrVqpkfv/rqq8qQIYOuXLniwKgAAAAAPI1DKxHx8fFyd7dcYCNDhgzmydUAAACAvVGIsM6hSYRhGGrXrp08PDzMbQ8ePNCHH34oHx8fc9uKFSscER4AAACAZDg0iWjbtm2Stvfee88BkQAAAACPpOVF4OzFoUnE3LlzHXl6AAAAAM/AKRabAwAAAJwFi81Z59C7MwEAAABIe6hEAAAAAIlRiLCKSgQAAAAAm1CJAAAAABKhEGEdlQgAAAAANqESAQAAACTCOhHWUYkAAAAAYBMqEQAAAEAirBNhHZUIAAAAADahEgEAAAAkwpwI66hEAAAAALAJSQQAAAAAm5BEAAAAALAJSQQAAAAAmzCxGgAAAEiEidXWUYkAAAAAYBMqEQAAAEAiLDZnHZUIAAAAADahEgEAAAAkwpwI66hEAAAAALAJlQgAAAAgEQoR1lGJAAAAAGATKhEAAABAYpQirKISAQAAAMAmVCIAAACARFgnwjoqEQAAAABsQiUCAAAASIR1IqyjEgEAAADAJlQiAAAAgEQoRFhHJQIAAACATahEAAAAAIlRirCKSgQAAAAAm5BEAAAAALAJw5kAAACARFhszjoqEQAAAABsQiUCAAAASITF5qyjEgEAAADAJibDMAxHBwHHi4mJ0ZgxYzRw4EB5eHg4Ohy8wLjWYC9ca7AXrjWkRyQRkCTdvXtXvr6+unPnjjJnzuzocPAC41qDvXCtwV641pAeMZwJAAAAgE1IIgAAAADYhCQCAAAAgE1IIiBJ8vDw0NChQ5kQhueOaw32wrUGe+FaQ3rExGoAAAAANqESAQAAAMAmJBEAAAAAbEISAQAAAMAmJBHpwJYtW2QymXT79m1HhwLYLF++fJo4caKjwwDM+J0KSTp37pxMJpMOHDjw1H41a9ZUr1697BITYE8kEU6kXbt2at68uaPDsBs+iB2vXbt2MplMGjt2rEX7qlWrZDKZ7BrLvHnzlCVLliTte/bsUefOne0aC+zDXtdfSv/Yw4vpr+vMZDLJzc1NBQoUUN++fRUZGfm3jhsUFKTw8HCVLFlS0pM/01asWKERI0b8rXMBzogkIo14+PBhkjbDMBQXF+eAaPAi8fT01Lhx43Tr1i1Hh5KsHDlyyNvb29Fh4Dlxpusvud+zeDG8/vrrCg8P15kzZzRy5EhNnTpVffv2/VvHdHV1VUBAgDJkyPDUfn5+fsqUKdPfOhfgjEginFTNmjXVvXt39e7dW9mzZ1fdunXN33L85z//UYUKFeTh4aFt27bJMAyFhoaqQIEC8vLy0ssvv6zvv//+qcffsWOHqlevLi8vLwUFBalHjx7mb2UGDhyoSpUqJXlO6dKlNXToUEmPvh2uW7eusmfPLl9fX9WoUUP79u2z6G8ymTR79mz94x//kLe3twoXLqzVq1dLevTNYK1atSRJWbNmlclkUrt27f7u24ZnUKdOHQUEBGjMmDFP7PO060WSwsPD1ahRI3l5eSl//vxavHhxkmFI48ePV6lSpeTj46OgoCB17dpV9+/fl/ToG7z27dvrzp075m8Mhw0bJslyONO7776rd955xyK22NhYZc+eXXPnzpWkZ/r3AMdJjevPZDJp1apVFs/JkiWL5s2bJ0nKnz+/JKls2bIymUyqWbOmpP9Vf8eMGaPAwEAVKVJEkvTtt9+qQoUKypQpkwICAtSqVStdvXo19V407M7Dw0MBAQEKCgpSq1at1Lp1a61atUoxMTHq0aOH/P395enpqapVq2rPnj3m5926dUutW7dWjhw55OXlpcKFC5t/1ySucD3tMy3xcKaUfL5K0ty5c1WsWDF5enrqpZde0tSpU5/TOwM8O5IIJzZ//nxlyJBBv/32m2bMmGFu79+/v8aMGaPjx4+rdOnS+vTTTzV37lxNmzZNR48e1ccff6z33ntPW7duTfa4hw8fVv369dWiRQsdOnRIS5cu1fbt29W9e3dJUuvWrfX777/r9OnT5uccPXpUhw8fVuvWrSVJ9+7dU9u2bbVt2zbt2rVLhQsXVsOGDXXv3j2Lcw0fPlwtW7bUoUOH1LBhQ7Vu3Vo3b95UUFCQli9fLkk6ceKEwsPDNWnSpFR9/5Ayrq6uGj16tCZPnqxLly4l2W/tepGkNm3a6MqVK9qyZYuWL1+umTNnJvmjy8XFRV999ZWOHDmi+fPna9OmTerfv78kKSQkRBMnTlTmzJkVHh6u8PDwZL8lbN26tVavXm1OPiTpP//5jyIjI/XGG29Iks3/HuBYqXH9WbN7925J0i+//KLw8HCtWLHCvG/jxo06fvy4NmzYoLVr10p6VJEYMWKEDh48qFWrVuns2bN8yfGC8fLyUmxsrPr376/ly5dr/vz52rdvnwoVKqT69evr5s2bkqTPPvtMx44d008//aTjx49r2rRpyp49e5LjpfQzLSWfr7NmzdLgwYM1atQoHT9+XKNHj9Znn32m+fPnP4+3Anh2BpxG27ZtjWbNmhmGYRg1atQwypQpY7F/8+bNhiRj1apV5rb79+8bnp6exo4dOyz6duzY0Xj33Xctnnfr1i3DMAzjn//8p9G5c2eL/tu2bTNcXFyM6OhowzAMo3Tp0sbnn39u3j9w4EDjlVdeeWLscXFxRqZMmYw1a9aY2yQZn376qUWsJpPJ+Omnn5KNC/aX+JqrVKmS0aFDB8MwDGPlypXGX78erF0vx48fNyQZe/bsMe//888/DUnGhAkTnnjuZcuWGdmyZTM/njt3ruHr65ukX968ec3HefjwoZE9e3ZjwYIF5v3vvvuu8dZbbxmGkbJ/D3AeqXH9Gcaj3zUrV6606OPr62vMnTvXMAzDOHv2rCHJ2L9/f5Lz58yZ04iJiXlqnLt37zYkGffu3TMMg99daU3i68wwDOP33383smXLZrz55puGm5ubsWjRIvO+hw8fGoGBgUZoaKhhGIbRpEkTo3379ske9/Hr6knXRY0aNYyePXuaH1v7fA0KCjIWL15scYwRI0YYlStXtuVlA88dlQgnVqFCBavtx44d04MHD1S3bl1lzJjRvC1YsMDim47E9u7dq3nz5ln0r1+/vhISEnT27FlJj74tWbRokaRHw0O+++4787ckknT16lV9+OGHKlKkiHx9feXr66v79+/rwoULFucqXbq0+WcfHx9lypSJYQFOaty4cZo/f76OHTtm0W7tejlx4oQyZMigcuXKmZ9TqFAhZc2a1eI4mzdvVt26dZU7d25lypRJbdq00Y0bN2ya3Ojm5qa33nrLfG1GRkbqhx9+MF+bz/LvAc7hWa+/v6tUqVJyd3e3aNu/f7+aNWumvHnzKlOmTObhT4//fkPasXbtWmXMmFGenp6qXLmyqlevro8++kixsbGqUqWKuZ+bm5teffVVHT9+XJLUpUsXLVmyRGXKlFH//v21Y8eOvx3L0z5fr127posXL6pjx44W1/zIkSP5HQan8/TZQHAoHx8fq+0JCQmSpB9//FG5c+e26Ofh4ZHs8xMSEvTBBx+oR48eSfYFBwdLklq1aqVPPvlE+/btU3R0tC5evGgxFr1du3a6du2aJk6cqLx588rDw0OVK1dOMjHRzc3N4rHJZDLHDOdSvXp11a9fX4MGDbIYumHtejlx4kSyxzMMw/zz+fPn1bBhQ3344YcaMWKE/Pz8tH37dnXs2FGxsbE2xdm6dWvVqFFDV69e1YYNG+Tp6akGDRqYY5Vs+/cA5/Cs15/06PdK4utNUoqvq8d/z0ZGRqpevXqqV6+evv32W+XIkUMXLlxQ/fr1mXidhtWqVUvTpk2Tm5ubAgMD5ebmpoMHD0pSkjuBGYZhbmvQoIHOnz+vH3/8Ub/88otee+01devWTV988cUzx/K0z9e/fofNmjVLFStWtHieq6vrM58TeB5IItK44sWLy8PDQxcuXFCNGjVS9Jxy5crp6NGjKlSo0BP75MmTR9WrV9eiRYsUHR2tOnXqKGfOnOb927Zt09SpU9WwYUNJ0sWLF3X9+nWbYv/r27/4+HibnofnZ8yYMSpbtqx5gqlk/Xp56aWXFBcXp/3796t8+fKSpFOnTlnc5jAsLExxcXH68ssv5eLyqAC6bNkyi+O4u7un6FoICQlRUFCQli5dqp9++klvvfWW+Vp6ln8PcB7Pcv1Jj+7gFR4ebn78559/KioqyvzYlt81f/zxh65fv66xY8cqKChI0qPrF2mbj49PkmuoUKFCcnd31/bt29WqVStJj5LPsLAwi3UdcuTIoXbt2qldu3aqVq2a+vXrl2wSkdLr7Gmfrzlz5lTu3Ll15swZi+o/4IxIItK4TJkyqW/fvvr444+VkJCgqlWr6u7du9qxY4cyZsyotm3bJnnOgAEDVKlSJXXr1k2dOnWSj4+PeWLh5MmTzf1at26tYcOG6eHDh5owYYLFMQoVKqSFCxeqQoUKunv3rvr16ycvLy+bYs+bN69MJpPWrl2rhg0bysvLSxkzZny2NwKponTp0mrdurXFdWDtennppZdUp04dde7c2fxNX58+feTl5WX+Nq9gwYKKi4vT5MmT1aRJE/3222+aPn26xbnz5cun+/fva+PGjXr55Zfl7e2d7K1dTSaTWrVqpenTp+vkyZPavHmzed+z/HuA83iW60+SateurSlTpqhSpUpKSEjQgAEDLKqg/v7+8vLy0s8//6w8efLI09NTvr6+ycYQHBwsd3d3TZ48WR9++KGOHDnCPf5fUD4+PurSpYv69esnPz8/BQcHKzQ0VFFRUerYsaMkaciQISpfvrxKlCihmJgYrV27VsWKFUv2eLZ8pj3t83XYsGHq0aOHMmfOrAYNGigmJkZhYWG6deuWevfunbpvAvB3OHRGBiw8PrE68UQsw3jypK2EhARj0qRJRtGiRQ03NzcjR44cRv369Y2tW7c+8Xm7d+826tata2TMmNHw8fExSpcubYwaNcriuLdu3TI8PDwMb29v84TCv+zbt8+oUKGC4eHhYRQuXNj497//bTEB1jCsT3Y0DMP4/PPPjYCAAMNkMhlt27ZN6VuFVPL4hEPDMIxz584ZHh4eRuJfD9aulytXrhgNGjQwPDw8jLx58xqLFy82/P39jenTp5v7jB8/3siVK5fh5eVl1K9f31iwYEGS6/LDDz80smXLZkgyhg4dahiGkeS6MgzDOHr0qCHJyJs3r5GQkGCxz9q/BziP1Lr+Ll++bNSrV8/w8fExChcubKxbty7J75pZs2YZQUFBhouLi1GjRo0nnt8wDGPx4sVGvnz5DA8PD6Ny5crG6tWrUzSBFs7pSf+dDcMwoqOjjY8++sjInj274eHhYVSpUsXYvXu3ef+IESOMYsWKGV5eXoafn5/RrFkz48yZM4ZhJD9hP7nPtOQ+z5/2+WoYhrFo0SKjTJkyhru7u5E1a1ajevXqxooVK/7W+wCkNpNhPDaQFAD+pkuXLikoKMg8hhgAALxYSCIA/G2bNm3S/fv3VapUKYWHh6t///66fPmyTp48mWRyPQAASPuYEwHgb4uNjdWgQYN05swZZcqUSSEhIVq0aBEJBAAALygqEQAAAABswmJzAAAAAGxCEgEAAADAJiQRAAAAAGxCEgEAAADAJiQRAAAAAGxCEgEANho2bJjKlCljftyuXTs1b97c7nGcO3dOJpNJBw4ceG7nePy1Pgt7xAkAsC+SCAAvhHbt2slkMslkMsnNzU0FChRQ3759FRkZ+dzPPWnSJM2bNy9Ffe39B3XNmjXVq1cvu5wLAJB+sNgcgBfG66+/rrlz5yo2Nlbbtm3T+++/r8jISE2bNi1J39jY2FRbDM/X1zdVjgMAQFpBJQLAC8PDw0MBAQEKCgpSq1at1Lp1a61atUrS/4blfPPNNypQoIA8PDxkGIbu3Lmjzp07y9/fX5kzZ1bt2rV18OBBi+OOHTtWOXPmVKZMmdSxY0c9ePDAYv/jw5kSEhI0btw4FSpUSB4eHgoODtaoUaMkSfnz55cklS1bViaTSTVr1jQ/b+7cuSpWrJg8PT310ksvaerUqRbn2b17t8qWLStPT09VqFBB+/fv/9vv2YABA1SkSBF5e3urQIEC+uyzzxQbG5uk34wZMxQUFCRvb2+99dZbun37tsV+a7EnduvWLbVu3Vo5cuSQl5eXChcurLlz5/7t1wIAsB8qEQBeWF5eXhZ/EJ86dUrLli3T8uXL5erqKklq1KiR/Pz8tG7dOvn6+mrGjBl67bXXdPLkSfn5+WnZsmUaOnSovv76a1WrVk0LFy7UV199pQIFCjzxvAMHDtSsWbM0YcIEVa1aVeHh4frjjz8kPUoEXn31Vf3yyy8qUaKE3N3dJUmzZs3S0KFDNWXKFJUtW1b79+9Xp06d5OPjo7Zt2yoyMlKNGzdW7dq19e233+rs2bPq2bPn336PMmXKpHnz5ikwMFCHDx9Wp06dlClTJvXv3z/J+7ZmzRrdvXtXHTt2VLdu3bRo0aIUxf64zz77TMeOHdNPP/2k7Nmz69SpU4qOjv7brwUAYEcGALwA2rZtazRr1sz8+PfffzeyZctmtGzZ0jAMwxg6dKjh5uZmXL161dxn48aNRubMmY0HDx5YHKtgwYLGjBkzDMMwjMqVKxsffvihxf6KFSsaL7/8crLnvnv3ruHh4WHMmjUr2TjPnj1rSDL2799v0R4UFGQsXrzYom3EiBFG5cqVDcMwjBkzZhh+fn5GZGSkef+0adOSPVZiNWrUMHr27PnE/Y8LDQ01ypcvb348dOhQw9XV1bh48aK57aeffjJcXFyM8PDwFMX++Gtu0qSJ0b59+xTHBABwPlQiALww1q5dq4wZMyouLk6xsbFq1qyZJk+ebN6fN29e5ciRw/x47969un//vrJly2ZxnOjoaJ0+fVqSdPz4cX344YcW+ytXrqzNmzcnG8Px48cVExOj1157LcVxX7t2TRcvXlTHjh3VqVMnc3tcXJx5vsXx48f18ssvy9vb2yKOv+v777/XxIkTderUKd2/f19xcXHKnDmzRZ/g4GDlyZPH4rwJCQk6ceKEXF1drcb+uC5duuiNN97Qvn37VK9ePTVv3lwhISF/+7UAAOyHJALAC6NWrVqaNm2a3NzcFBgYmGTitI+Pj8XjhIQE5cqVS1u2bElyrCxZsjxTDF5eXjY/JyEhQdKjYUEVK1a02PfXsCvDMJ4pnqfZtWuX3nnnHQ0fPlz169eXr6+vlixZoi+//PKpzzOZTOb/T0nsj2vQoIHOnz+vH3/8Ub/88otee+01devWTV988UUqvCoAgD2QRAB4Yfj4+KhQoUIp7l+uXDlFREQoQ4YMypcvX7J9ihUrpl27dqlNmzbmtl27dj3xmIULF5aXl5c2btyo999/P8n+v+ZAxMfHm9ty5syp3Llz68yZM2rdunWyxy1evLgWLlyo6Ohoc6LytDhS4rffflPevHk1ePBgc9v58+eT9Ltw4YKuXLmiwMBASdLOnTvl4uKiIkWKpCj25OTIkUPt2rVTu3btVK1aNfXr148kAgDSEJIIAOlWnTp1VLlyZTVv3lzjxo1T0aJFdeXKFa1bt07NmzdXhQoV1LNnT7Vt21YVKlRQ1apVtWjRIh09evSJE6s9PT01YMAA9e/fX+7u7qpSpYquXbumo0ePqmPHjvL395eXl5d+/vln5cmTR56envL19dWwYcPUo0cPZc6cWQ0aNFBMTIzCwsJ069Yt9e7dW61atdLgwYPVsWNHffrppzp37lyK/+i+du1aknUpAgICVKhQIV24cEFLlizRK6+8oh9//FErV65M9jW1bdtWX3zxhe7evasePXqoZcuWCggIkCSrsT9uyJAhKl++vEqUKKGYmBitXbtWxYoVS9FrAQA4B27xCiDdMplMWrdunapXr64OHTqoSJEieuedd3Tu3DnlzJlTkvT2229ryJAhGjBggMqXL6/z58+rS5cuTz3uZ599pj59+mjIkCEqVqyY3n77bV29elWSlCFDBn311VeaMWOGAgMD1axZM0nS+++/r9mzZ2vevHkqVaqUatSooXnz5plvCZsxY0atWbNGx44dU9myZTV48GCNGzcuRa9z8eLFKlu2rMU2ffp0NWvWTB9//LG6d++uMmXKaMeOHfrss8+SPL9QoUJq0aKFGjZsqHr16qlkyZIWt3C1Fvvj3N3dNXDgQJUuXVrVq1eXq6urlixZkqLXAgBwDibjeQy0BQAAAPDCohIBAAAAwCYkEQAAAABsQhIBAAAAwCYkEQAAAABsQhIBAAAAwCYkEQAAAABsQhIBAAAAwCYkEQAAAABsQhIBAAAAwCYkEQAAAABsQhIBAAAAwCb/B7klieeh8aNYAAAAAElFTkSuQmCC\n",
      "text/plain": [
       "<Figure size 1000x700 with 2 Axes>"
      ]
     },
     "metadata": {},
     "output_type": "display_data"
    }
   ],
   "source": [
    "print(f\"Accuracy: {accuracy_score(y_validation, y_pred)}\\n\")\n",
    "\n",
    "print(\"Classification Report:\")\n",
    "print(classification_report(y_validation, y_pred, target_names=le.classes_))\n",
    "\n",
    "cm = confusion_matrix(y_validation, y_pred)\n",
    "plt.figure(figsize=(10,7))\n",
    "sns.heatmap(cm, annot=True, fmt='d', cmap='Blues', xticklabels=le.classes_, yticklabels=le.classes_)\n",
    "plt.title('Confusion Matrix')\n",
    "plt.ylabel('Actual Labels')\n",
    "plt.xlabel('Predicted Labels')\n",
    "plt.show()"
   ]
  },
  {
   "cell_type": "markdown",
   "id": "14679f8d",
   "metadata": {},
   "source": [
    "Accuracy\n",
    "\n",
    "Precision Recall F1 score\n",
    "\n",
    "Confusion Matrix"
   ]
  }
 ],
 "metadata": {
  "kernelspec": {
   "display_name": "Python 3 (ipykernel)",
   "language": "python",
   "name": "python3"
  },
  "language_info": {
   "codemirror_mode": {
    "name": "ipython",
    "version": 3
   },
   "file_extension": ".py",
   "mimetype": "text/x-python",
   "name": "python",
   "nbconvert_exporter": "python",
   "pygments_lexer": "ipython3",
   "version": "3.9.13"
  }
 },
 "nbformat": 4,
 "nbformat_minor": 5
}
